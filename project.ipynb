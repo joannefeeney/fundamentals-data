{
 "cells": [
  {
   "cell_type": "markdown",
   "metadata": {},
   "source": [
    "# My Fundamentals of Data Analytics Project\n",
    "\n",
    "**By Joanne Feeney**\n",
    "***"
   ]
  },
  {
   "cell_type": "markdown",
   "metadata": {},
   "source": [
    "For this project I will create a notebook investigating the variables and data points within the well-known iris flower data set associated with Ronald A Fisher.\n",
    "\n",
    "I will discuss the classification of each variable within the data set according to common variable types and scales of measurement in mathematics, statistics and Python. I will also select, demonstrate and explain what I believe to be the most appropriate summary statistics to describe each variable and explain the most appropriate plot(s) for each variable."
   ]
  },
  {
   "cell_type": "markdown",
   "metadata": {},
   "source": [
    "The Iris dataset includes three flower (iris) species with 50 samples each as well as some properties about each flower. \n",
    "\n",
    "The columns in this dataset are:\n",
    "\n",
    "- Sepal Length\n",
    "- Sepal Width\n",
    "- Petal Length\n",
    "- Petal Width\n",
    "- Class\n",
    "\n",
    "[1]"
   ]
  },
  {
   "cell_type": "markdown",
   "metadata": {},
   "source": [
    "Importing different packages that I will use in this notebook"
   ]
  },
  {
   "cell_type": "code",
   "execution_count": null,
   "metadata": {},
   "outputs": [],
   "source": [
    "# Imports\n",
    "import numpy as np\n",
    "import matplotlib.pyplot as plt\n",
    "import pandas as pd\n",
    "import seaborn as sns"
   ]
  },
  {
   "cell_type": "markdown",
   "metadata": {},
   "source": [
    "Reading in csv provided by the lecturer and adding columns. Using df.head() to see the first 5 rows of data."
   ]
  },
  {
   "cell_type": "code",
   "execution_count": null,
   "metadata": {},
   "outputs": [],
   "source": [
    "# Naming as df and reading it into python\n",
    "df = pd.read_csv(\"data\\iris.csv\")\n",
    "\n",
    "# Adding columns\n",
    "df.columns =['sepal_length', 'sepal_width', 'petal_length', 'petal_width', 'class']\n",
    "\n",
    "df.head()"
   ]
  },
  {
   "cell_type": "markdown",
   "metadata": {},
   "source": [
    "Using df.info() to find out more information about the dataset. From this we can see there are 150 entries, there are no non-null entries and the different data types which are set as either floats or objects."
   ]
  },
  {
   "cell_type": "code",
   "execution_count": null,
   "metadata": {},
   "outputs": [],
   "source": [
    "df.info()"
   ]
  },
  {
   "cell_type": "markdown",
   "metadata": {},
   "source": [
    "Using a pie plot to show that iris data contains equal amounts fo data for each of the three iris'."
   ]
  },
  {
   "cell_type": "code",
   "execution_count": null,
   "metadata": {},
   "outputs": [],
   "source": [
    "# Pie chart of iris flowers\n",
    "df['class'].value_counts().plot(kind='pie', label='')\n",
    "plt.title(\"iris classes in the dataset\", size=20, color=\"black\");"
   ]
  },
  {
   "cell_type": "markdown",
   "metadata": {},
   "source": [
    "[8]"
   ]
  },
  {
   "cell_type": "markdown",
   "metadata": {},
   "source": [
    "Using df.describe() to see the maximum, minimum, mean etc. of each of the four variables."
   ]
  },
  {
   "cell_type": "code",
   "execution_count": null,
   "metadata": {},
   "outputs": [],
   "source": [
    "df.describe()"
   ]
  },
  {
   "cell_type": "markdown",
   "metadata": {},
   "source": [
    "Using df.isnull().sum() to check if there are any null/NaN entries in the dataset."
   ]
  },
  {
   "cell_type": "code",
   "execution_count": null,
   "metadata": {},
   "outputs": [],
   "source": [
    "df.isnull().sum()"
   ]
  },
  {
   "cell_type": "markdown",
   "metadata": {},
   "source": [
    "By using all of the above quick python codes, we can already make some assumptions about the iris dataset. We can see that it is a clean, evenly distributed dataset i.e. there are no missing values and each variable has a count of 50. We only have two types of variable, floats and objects. \n",
    "\n",
    "There is not a great difference in length (cm) between the iris widths when comparing minimum to maximum but a fairly sizeable difference when comparing the min. & max. iris lengths."
   ]
  },
  {
   "cell_type": "markdown",
   "metadata": {},
   "source": [
    "Grouping data by class."
   ]
  },
  {
   "cell_type": "code",
   "execution_count": null,
   "metadata": {},
   "outputs": [],
   "source": [
    "# Using loc to get all iris classes individually (GeeksforGeeks.com)\n",
    "df_setosa=df.loc[df[\"class\"] == \"setosa\"] \n",
    "\n",
    "df_versicolor=df.loc[df[\"class\"] == \"versicolor\"] \n",
    "\n",
    "df_virginica=df.loc[df[\"class\"] == \"virginica\"] "
   ]
  },
  {
   "cell_type": "markdown",
   "metadata": {},
   "source": [
    "[2]"
   ]
  },
  {
   "cell_type": "markdown",
   "metadata": {},
   "source": [
    "Plotting all the variables to back up my belief that petal & sepal lengths in cm are (mostly) larger that the petal widths."
   ]
  },
  {
   "cell_type": "code",
   "execution_count": null,
   "metadata": {},
   "outputs": [],
   "source": [
    "# Plotting all variables\n",
    "df.plot()\n",
    "plt.title(\"plot of all variables in iris dataset\", size=20, color=\"black\");"
   ]
  },
  {
   "cell_type": "markdown",
   "metadata": {},
   "source": [
    "Scatterplot of sepal data by class of iris which shows us that setosa appears to have the largest sepal width but smallest sepal length of the iris flowers. Versicolor appear to have average lengths compared to the other flowers and virginica has quite average sepal width but with the largest sepal length."
   ]
  },
  {
   "cell_type": "code",
   "execution_count": null,
   "metadata": {},
   "outputs": [],
   "source": [
    "# Scatterplot of sepal data\n",
    "sns.scatterplot(df, x=\"sepal_length\", y=\"sepal_width\", hue=\"class\")\n",
    "plt.title(\"sepal length & sepal width (cm)\", size=20, color=\"black\");"
   ]
  },
  {
   "cell_type": "markdown",
   "metadata": {},
   "source": [
    "Scatterplot of petal data which shows us that setosa has by far the smallest petals. Versicolor again is coming in about  average in size and virginica has the longest petal width and petal length."
   ]
  },
  {
   "cell_type": "code",
   "execution_count": null,
   "metadata": {},
   "outputs": [],
   "source": [
    "# Scatterplot of petal data\n",
    "sns.scatterplot(df, x=\"petal_length\", y=\"petal_width\", hue=\"class\")\n",
    "plt.title(\"petal length & petal width (cm)\", size=20, color=\"black\");"
   ]
  },
  {
   "cell_type": "markdown",
   "metadata": {},
   "source": [
    "Using python code to back up the df.describe() function (at the top of the notebook) calculations on mean, min and max values."
   ]
  },
  {
   "cell_type": "code",
   "execution_count": null,
   "metadata": {},
   "outputs": [],
   "source": [
    "# Calculate the mean of sepal length (GeeksforGeeks.com)\n",
    "df_mean1=df[\"sepal_length\"].mean() \n",
    "\n",
    "df_mean1\n"
   ]
  },
  {
   "cell_type": "code",
   "execution_count": null,
   "metadata": {},
   "outputs": [],
   "source": [
    "# Calculate the mean of sepal width (GeeksforGeeks.com)\n",
    "df_mean2=df[\"sepal_width\"].mean() \n",
    "\n",
    "df_mean2"
   ]
  },
  {
   "cell_type": "code",
   "execution_count": null,
   "metadata": {},
   "outputs": [],
   "source": [
    "# Calculate the min & max of petal length (GeeksforGeeks.com)\n",
    "df_min=df[\"petal_length\"].min() \n",
    "\n",
    "df_min"
   ]
  },
  {
   "cell_type": "code",
   "execution_count": null,
   "metadata": {},
   "outputs": [],
   "source": [
    "# Calculate the min & max of petal length (GeeksforGeeks.com)\n",
    "df_max=df[\"petal_length\"].max() \n",
    "\n",
    "df_max"
   ]
  },
  {
   "cell_type": "markdown",
   "metadata": {},
   "source": [
    "[2]"
   ]
  },
  {
   "cell_type": "markdown",
   "metadata": {},
   "source": [
    "Using google image search I found the different colours that can be used in the seaborn package and added some nice colours to the below histograms which show the comparison of sepal width & sepal length in a different format to the scatterplots above."
   ]
  },
  {
   "cell_type": "code",
   "execution_count": null,
   "metadata": {},
   "outputs": [],
   "source": [
    "# Histogram of sepal width (W3 Schools)\n",
    "sns.histplot(df, x='sepal_width', hue='class', palette=['r', 'mediumslateblue', 'magenta'],)\n",
    "sns.color_palette(\"rocket\")\n",
    "plt.title(\"histogram of sepal width (cm)\", size=20, color=\"black\");"
   ]
  },
  {
   "cell_type": "code",
   "execution_count": null,
   "metadata": {},
   "outputs": [],
   "source": [
    "# Histogram of sepal length (W3 Schools)\n",
    "sns.histplot(df, x='sepal_length', hue='class')\n",
    "plt.title(\"histogram of sepal length (cm)\", size=20, color=\"black\");"
   ]
  },
  {
   "cell_type": "markdown",
   "metadata": {},
   "source": [
    "[3]"
   ]
  },
  {
   "cell_type": "markdown",
   "metadata": {},
   "source": [
    "You may need to expand the output of the below boxplots to see the full detail. From these plots, we can clearly back up our previous assumptions that iris virginica is the largest of the flowers in size in most of the data collected (bar sepal width).\n",
    "\n",
    "Strangely enough, we can also see that setosa is the smallest of the flowers in almost all of the data bar the very same grouping of sepal width, where they are the largest!"
   ]
  },
  {
   "cell_type": "code",
   "execution_count": null,
   "metadata": {},
   "outputs": [],
   "source": [
    "# Boxplots for each variable by class (Geeksforgeeks & Stackoverflow)\n",
    "fig, axs = plt.subplots(ncols=4, figsize=(25, 10),)\n",
    "fig.suptitle('boxplots of all variables by class', fontsize=50)\n",
    "sns.boxplot(x='sepal_length', y='class', data=df, ax=axs[0]);\n",
    "sns.boxplot(x='sepal_width', y='class', data=df, ax=axs[1]);\n",
    "sns.boxplot(x='petal_length',y='class', data=df, ax=axs[2]);\n",
    "sns.boxplot(x='petal_width',y='class', data=df, ax=axs[3]);\n"
   ]
  },
  {
   "cell_type": "markdown",
   "metadata": {},
   "source": [
    "[4] [5]"
   ]
  },
  {
   "cell_type": "markdown",
   "metadata": {},
   "source": [
    "Finally, I have prepared a pairplot which shows all the different variables compared to one another via scatter plot."
   ]
  },
  {
   "cell_type": "code",
   "execution_count": null,
   "metadata": {},
   "outputs": [],
   "source": [
    "# Pairplot of all variables (Tutorialspoint.com)\n",
    "plt.rcParams[\"figure.figsize\"] = [7.50, 3.50]\n",
    "plt.rcParams[\"figure.autolayout\"] = True\n",
    "df1 = sns.pairplot(df, hue=\"class\")\n",
    "df1.fig.suptitle(\"plot of all variables in iris dataset\", fontsize=20, color=\"black\");\n",
    "# Moving legend outside pairplot (Stackoverflow)\n",
    "sns.move_legend(df1, \"upper left\", bbox_to_anchor=(1, 1))"
   ]
  },
  {
   "cell_type": "markdown",
   "metadata": {},
   "source": [
    "[6] [7]"
   ]
  },
  {
   "cell_type": "markdown",
   "metadata": {},
   "source": [
    "### Conclusion\n",
    "\n",
    "In this notebook, I investigated the Iris dataset. My investigation aimed to work out the patterns and characteristics of three species/class of iris flowers: setosa, versicolor and virginica.\n",
    "\n",
    "I used various data analysis techniques to get some insight into the key attributes of the iris flowers. From scatter plots and pair plots to statistical measures such as mean, max etc., I compared these species. I discovered the distinguishing features of the iris species, such as sepal length, sepal width, petal length, and petal width. The outputs provide us with a lot of information on the unique identitifiers of each species.\n",
    "\n",
    "In summary, the iris dataset has allowed me to use some valuable skills in data analytics and get much more familiar with a subject I hope to use much of in the future."
   ]
  },
  {
   "cell_type": "markdown",
   "metadata": {},
   "source": [
    "***\n",
    "### References\n",
    "\n",
    "[1] Kaggle.com, (https://www.kaggle.com/datasets/uciml/iris), last accessed 18/12/23\n",
    "\n",
    "[2] Geeksforgeeks.com, (https://www.geeksforgeeks.org/python-basics-of-pandas-using-iris-dataset/), last accessed 18/12/23\n",
    "\n",
    "[3] W3schools.com, (https://www.w3schools.com/python/pandas/pandas_plotting.asp), last accessed 19/12/23\n",
    "\n",
    "[4] Stackoverflow.com, (https://stackoverflow.com/questions/38082602/plotting-multiple-different-plots-in-one-figure-using-seaborn), last accessed 19/12/23\n",
    "\n",
    "[5] Geeksforgeeks.com, (https://www.geeksforgeeks.org/how-to-set-a-single-main-title-for-all-the-subplots-in-matplotlib/), last accessed 19/12/23\n",
    "\n",
    "[6] Tutorialspoint.com, (https://www.tutorialspoint.com/how-to-show-the-title-for-the-diagram-of-seaborn-pairplot-or-pridgrid-matplotlib), last accessed 19/12/23\n",
    "\n",
    "[7] Stackoverflow.com, (https://stackoverflow.com/questions/30490740/move-legend-outside-figure-in-seaborn-tsplot), \n",
    "last accessed 19/12/23\n",
    "\n",
    "[8] Stackoverflow.com, (https://stackoverflow.com/questions/67250163/how-to-plot-a-pie-chart-from-an-object-dataframe-column-in-python), last accessed 19/12/23"
   ]
  },
  {
   "cell_type": "markdown",
   "metadata": {},
   "source": [
    "***\n",
    "## The End"
   ]
  }
 ],
 "metadata": {
  "kernelspec": {
   "display_name": "base",
   "language": "python",
   "name": "python3"
  },
  "language_info": {
   "codemirror_mode": {
    "name": "ipython",
    "version": 3
   },
   "file_extension": ".py",
   "mimetype": "text/x-python",
   "name": "python",
   "nbconvert_exporter": "python",
   "pygments_lexer": "ipython3",
   "version": "3.11.4"
  },
  "orig_nbformat": 4
 },
 "nbformat": 4,
 "nbformat_minor": 2
}
