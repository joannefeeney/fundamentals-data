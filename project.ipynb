{
 "cells": [
  {
   "cell_type": "markdown",
   "metadata": {},
   "source": [
    "# My Fundamentals of Data Analytics Project\n",
    "\n",
    "**By Joanne Feeney**\n",
    "***"
   ]
  },
  {
   "cell_type": "markdown",
   "metadata": {},
   "source": [
    "### References\n",
    "\n",
    "[1] Kaggle.com, (https://www.kaggle.com/datasets/uciml/iris), last accessed 18/12/23\n",
    "\n",
    "[2] Geeksforgeeks.com, (https://www.geeksforgeeks.org/python-basics-of-pandas-using-iris-dataset/), last accessed 18/12/23\n",
    "\n",
    "***"
   ]
  },
  {
   "cell_type": "markdown",
   "metadata": {},
   "source": [
    "For this project I will create a notebook investigating the variables and data points within the well-known iris flower data set associated with Ronald A Fisher.\n",
    "\n",
    "I will discuss the classification of each variable within the data set according to common variable types and scales of measurement in mathematics, statistics and Python. I will also select, demonstrate, and explain the most appropriate summary statistics to describe each variable and explain the most appropriate plot(s) for each variable."
   ]
  },
  {
   "cell_type": "markdown",
   "metadata": {},
   "source": [
    "The Iris dataset includes three flower (iris) species with 50 samples each as well as some properties about each flower. \n",
    "\n",
    "The columns in this dataset are:\n",
    "\n",
    "- Sepal Length\n",
    "- Sepal Width\n",
    "- Petal Length\n",
    "- Petal Width\n",
    "- Class\n",
    "\n",
    "[1]"
   ]
  },
  {
   "cell_type": "code",
   "execution_count": null,
   "metadata": {},
   "outputs": [],
   "source": [
    "# Imports\n",
    "import numpy as np\n",
    "import matplotlib.pyplot as plt\n",
    "import pandas as pd\n",
    "import seaborn as sns"
   ]
  },
  {
   "cell_type": "code",
   "execution_count": null,
   "metadata": {},
   "outputs": [],
   "source": [
    "# Naming as df and reading it into python\n",
    "df = pd.read_csv(\"data\\iris.csv\")\n",
    "\n",
    "# Adding columns\n",
    "df.columns =['sepal_length', 'sepal_width', 'petal_length', 'petal_width', 'class']\n",
    "\n",
    "df.head()"
   ]
  },
  {
   "cell_type": "code",
   "execution_count": null,
   "metadata": {},
   "outputs": [],
   "source": [
    "# Scatterplot of sepal data\n",
    "sns.scatterplot(df, x=\"sepal_length\", y=\"sepal_width\", hue=\"class\")\n",
    "plt.title(\"sepal length & sepal width\", size=20, color=\"black\");"
   ]
  },
  {
   "cell_type": "code",
   "execution_count": null,
   "metadata": {},
   "outputs": [],
   "source": [
    "# Scatterplot of petal data\n",
    "sns.scatterplot(df, x=\"petal_length\", y=\"petal_width\", hue=\"class\")\n",
    "plt.title(\"petal length & petal width\", size=20, color=\"black\");"
   ]
  },
  {
   "cell_type": "markdown",
   "metadata": {},
   "source": [
    "***\n",
    "## The End"
   ]
  }
 ],
 "metadata": {
  "kernelspec": {
   "display_name": "base",
   "language": "python",
   "name": "python3"
  },
  "language_info": {
   "codemirror_mode": {
    "name": "ipython",
    "version": 3
   },
   "file_extension": ".py",
   "mimetype": "text/x-python",
   "name": "python",
   "nbconvert_exporter": "python",
   "pygments_lexer": "ipython3",
   "version": "3.11.4"
  },
  "orig_nbformat": 4
 },
 "nbformat": 4,
 "nbformat_minor": 2
}
