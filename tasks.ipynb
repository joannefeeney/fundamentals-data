{
 "cells": [
  {
   "cell_type": "markdown",
   "metadata": {},
   "source": [
    "# My Fundamentals of Data Analytics Tasks\n",
    "\n",
    "**By Joanne Feeney**\n",
    "***"
   ]
  },
  {
   "cell_type": "markdown",
   "metadata": {},
   "source": [
    "## Task 1\n",
    "\n",
    "#### The Collatz Conjecture"
   ]
  },
  {
   "cell_type": "code",
   "execution_count": null,
   "metadata": {},
   "outputs": [],
   "source": [
    "def f(x):\n",
    "    # if x is even, divide it by 2\n",
    "    if x % 2 == 0:\n",
    "        return x // 2\n",
    "    else:\n",
    "        return (3 * x) + 1"
   ]
  },
  {
   "cell_type": "code",
   "execution_count": null,
   "metadata": {},
   "outputs": [],
   "source": [
    "def collatz(x):\n",
    "    print(f'Verifying that Collatz is true with positive integer 10,000:    ')\n",
    "    while x != 1:\n",
    "        x = f(x)\n",
    "        print(x, end=', ')"
   ]
  },
  {
   "cell_type": "code",
   "execution_count": null,
   "metadata": {},
   "outputs": [],
   "source": [
    "collatz(10000)"
   ]
  },
  {
   "cell_type": "markdown",
   "metadata": {},
   "source": [
    "## Task 2\n",
    "\n",
    "#### The Penguins Data Set\n",
    "\n",
    "[1] Github (mwaskom), https://github.com/mwaskom/seaborn-data/blob/master/penguins.csv\n",
    "\n",
    "[2] Imgur.com (image source), https://imgur.com/orZWHly"
   ]
  },
  {
   "cell_type": "markdown",
   "metadata": {},
   "source": [
    "<div>\n",
    "<img src=\"images\\penguins_image.png\" width=\"650\"/>\n",
    "</div>"
   ]
  },
  {
   "cell_type": "code",
   "execution_count": null,
   "metadata": {},
   "outputs": [],
   "source": [
    "# Imports\n",
    "import numpy as np\n",
    "import matplotlib.pyplot as plt\n",
    "import pandas as pd\n",
    "import seaborn as sns"
   ]
  },
  {
   "cell_type": "markdown",
   "metadata": {},
   "source": [
    "[3] GeeksforGeeks, https://www.geeksforgeeks.org/add-column-names-to-dataframe-in-pandas/"
   ]
  },
  {
   "cell_type": "code",
   "execution_count": null,
   "metadata": {},
   "outputs": [],
   "source": [
    "# Naming as df and reading it into python\n",
    "df = pd.read_csv(\"data\\penguins.csv\")\n",
    "\n",
    "# Adding columns\n",
    "df.columns =['species', 'island', 'bill_length_mm', 'bill_depth_mm', 'flipper_length_mm', 'body_mass_g', 'sex']"
   ]
  },
  {
   "cell_type": "code",
   "execution_count": null,
   "metadata": {},
   "outputs": [],
   "source": [
    "# Show\n",
    "print(df)"
   ]
  },
  {
   "cell_type": "markdown",
   "metadata": {},
   "source": [
    "[4] Tensorflow.org, https://www.tensorflow.org/datasets/catalog/penguins\n",
    "\n",
    "[5] Sunil Kumar Dash, https://www.analyticsvidhya.com/blog/2022/04/data-exploration-and-visualisation-using-palmer-penguins-dataset/"
   ]
  },
  {
   "cell_type": "markdown",
   "metadata": {},
   "source": [
    "The penguins data set contains measurements for three penguin species (Adelie, Gentoo, and Chinstrap) which were observed in the Palmer Archipelago, Antarctica.\n",
    "\n",
    "This data was collected from 2007 - 2009 by Dr. Kristen Gorman with the Palmer Station Long Term Ecological Research Program, part of the US Long Term Ecological Research Network.\n",
    "\n",
    "The data contains 344 observations.\n",
    "\n",
    "There are seven columns of data included in the data set:\n",
    "\n",
    "- species\n",
    "- island\n",
    "- bill length (mm)\n",
    "- bill depth (mm)\n",
    "- flipper length (mm)\n",
    "- body mass (g)\n",
    "- sex \n"
   ]
  },
  {
   "cell_type": "markdown",
   "metadata": {},
   "source": [
    "The types of variables I think should be used to model the penguin data set, by data type are:\n",
    "\n",
    "- species, island & sex = string\n",
    "- bill length (mm) & bill depth (mm) = floats\n",
    "- flipper length (mm) & body mass (g) = integers\n",
    "\n",
    "Now I think I would like to compare the numerical observations to one another so to do this I would covert all the floats to integers or vice versa (numpy).\n",
    "\n",
    "As there are only 3 categories for species/island & 2 for sex, I could convert these to boolean variables which may allow for easier reading into python functions (pandas)."
   ]
  },
  {
   "cell_type": "markdown",
   "metadata": {},
   "source": [
    "Variable Names:\n",
    "\n",
    "- species = species\n",
    "- island = island\n",
    "- bill length (mm) = bill_length\n",
    "- bill depth (mm) = bill_depth\n",
    "- flipper length (mm) = flipper_length\n",
    "- body mass (g) = body_mass\n",
    "- sex = sex"
   ]
  },
  {
   "cell_type": "markdown",
   "metadata": {},
   "source": [
    "## Task 3\n",
    "\n",
    "#### The Penguins Data Set - Suggesting appropriate probability distributions\n",
    "\n",
    "[6] NumPy Developers, https://numpy.org/doc/stable/reference/random/generator.html#distributions\n",
    "\n",
    "[7] Michael Waskom, https://seaborn.pydata.org/tutorial/distributions.html"
   ]
  },
  {
   "cell_type": "markdown",
   "metadata": {},
   "source": [
    "I suggest the below probability distributions from the numpy random distributions list:\n",
    "\n",
    "\n",
    "**numpy.random.choice** for species, island & sex\n",
    "\n",
    "&\n",
    "\n",
    "**numpy.random.normal**  for bill_length, bill_depth, fipper_length & body_mass\n"
   ]
  },
  {
   "cell_type": "markdown",
   "metadata": {},
   "source": [
    "## Task 4\n",
    "\n",
    "#### Flipping two coins, each with a probability p of giving heads"
   ]
  },
  {
   "cell_type": "markdown",
   "metadata": {},
   "source": [
    "[8] NumPy Developers, https://numpy.org/doc/stable/reference/random/generator.html#distributions"
   ]
  },
  {
   "cell_type": "code",
   "execution_count": null,
   "metadata": {},
   "outputs": [],
   "source": [
    "# Flipping two coins 10,000 times\n",
    "rand_coins = np.random.binomial(2, 0.5, 10000)"
   ]
  },
  {
   "cell_type": "code",
   "execution_count": null,
   "metadata": {},
   "outputs": [],
   "source": [
    "# Define function\n",
    "def H(p):\n",
    "  return -(1 - p) * np.log2(1.0 - p) - p * np.log2(p)\n",
    "\n",
    "# Entropy of 0.5\n",
    "H(0.5)"
   ]
  },
  {
   "cell_type": "code",
   "execution_count": null,
   "metadata": {},
   "outputs": [],
   "source": [
    "# Create an empty plot\n",
    "fig, ax = plt.subplots()\n",
    "\n",
    "# p is the probability\n",
    "p = np.linspace(0.00000001, 0.99999999, 10001)\n",
    "\n",
    "\n",
    "# Plot\n",
    "ax.plot(p, H(p));\n",
    "plt.title('Entropy of heads vs. p');"
   ]
  },
  {
   "cell_type": "markdown",
   "metadata": {},
   "source": [
    "## Task 5\n",
    "\n",
    "#### Individual plots for each of the variables"
   ]
  },
  {
   "cell_type": "markdown",
   "metadata": {},
   "source": [
    "[9] Parul Pandey, https://www.kaggle.com/code/parulpandey/penguin-dataset-the-new-iris\n",
    "\n",
    "[10] TIRENDAZ AI, https://www.kaggle.com/code/tirendazacademy/penguin-dataset-data-visualization-with-seaborn\n",
    "\n",
    "[11] Github (JoEberle), https://github.com/JoeEberle/penguins/blob/main/penguins.ipynb\n",
    "\n",
    "[12] Zang Zhiyuan, https://medium.com/@zyzang426/1-background-4b70ceb1b9d7"
   ]
  },
  {
   "cell_type": "code",
   "execution_count": null,
   "metadata": {},
   "outputs": [],
   "source": [
    "# Drop any incomplete data\n",
    "df = df.dropna()"
   ]
  },
  {
   "cell_type": "code",
   "execution_count": null,
   "metadata": {},
   "outputs": [],
   "source": [
    "# Pie chart of species\n",
    "Species=df.species.value_counts()\n",
    "Species.plot(kind='pie',autopct=\"%.2f%%\");"
   ]
  },
  {
   "cell_type": "code",
   "execution_count": null,
   "metadata": {},
   "outputs": [],
   "source": [
    "# Pie chart of sex\n",
    "Sex=df.sex.value_counts()\n",
    "Sex.plot(kind='pie',autopct=\"%.2f%%\")"
   ]
  },
  {
   "cell_type": "code",
   "execution_count": null,
   "metadata": {},
   "outputs": [],
   "source": [
    "# Scatterplot of bill length & bill depth\n",
    "sns.scatterplot(df, x=\"bill_length_mm\", y=\"bill_depth_mm\", hue=\"species\")\n",
    "plt.title(\"bill length vs bill depth\", size=20, color=\"black\")"
   ]
  },
  {
   "cell_type": "code",
   "execution_count": null,
   "metadata": {},
   "outputs": [],
   "source": [
    "# Histogram of flipper length\n",
    "sns.histplot(df, x =\"flipper_length_mm\", hue = \"species\")\n",
    "plt.title(\"flipper length\", size=20, color=\"black\");"
   ]
  },
  {
   "cell_type": "code",
   "execution_count": null,
   "metadata": {},
   "outputs": [],
   "source": [
    "# Bar plot of body mass\n",
    "sns.barplot(df, x =\"species\", y=\"body_mass_g\")\n",
    "plt.title(\"body mass for the 3 species\", size=20, color=\"black\");"
   ]
  },
  {
   "cell_type": "code",
   "execution_count": null,
   "metadata": {},
   "outputs": [],
   "source": [
    "# Step chart of islands\n",
    "sns.histplot(df,\n",
    "              x=\"island\",\n",
    "              hue=\"species\",\n",
    "              element=\"step\")\n",
    "plt.grid(False)\n",
    "plt.show()"
   ]
  },
  {
   "cell_type": "markdown",
   "metadata": {},
   "source": [
    "***\n",
    "\n",
    "## The End"
   ]
  }
 ],
 "metadata": {
  "kernelspec": {
   "display_name": "base",
   "language": "python",
   "name": "python3"
  },
  "language_info": {
   "codemirror_mode": {
    "name": "ipython",
    "version": 3
   },
   "file_extension": ".py",
   "mimetype": "text/x-python",
   "name": "python",
   "nbconvert_exporter": "python",
   "pygments_lexer": "ipython3",
   "version": "3.11.4"
  },
  "orig_nbformat": 4
 },
 "nbformat": 4,
 "nbformat_minor": 2
}
