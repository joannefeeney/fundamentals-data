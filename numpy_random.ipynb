{
 "cells": [
  {
   "cell_type": "markdown",
   "metadata": {},
   "source": [
    "# Random Numbers in Numpy\n",
    "***"
   ]
  },
  {
   "cell_type": "markdown",
   "metadata": {},
   "source": [
    "https://numpy.org/doc/stable/reference/random/index.html"
   ]
  },
  {
   "cell_type": "code",
   "execution_count": 1,
   "metadata": {},
   "outputs": [],
   "source": [
    "#Numerical arrays, random numbers\n",
    "\n",
    "import numpy as np\n",
    "\n",
    "#Plots\n",
    "\n",
    "import matplotlib.pyplot as plt "
   ]
  },
  {
   "cell_type": "code",
   "execution_count": 2,
   "metadata": {},
   "outputs": [],
   "source": [
    "# Random number generator\n",
    "rng = np.random.default_rng()"
   ]
  },
  {
   "cell_type": "code",
   "execution_count": 3,
   "metadata": {},
   "outputs": [
    {
     "data": {
      "text/plain": [
       "0.20109955937743706"
      ]
     },
     "execution_count": 3,
     "metadata": {},
     "output_type": "execute_result"
    }
   ],
   "source": [
    "# Generate one random float uniformly distributed over the range [0, 1)\n",
    "rng.random()  "
   ]
  },
  {
   "cell_type": "code",
   "execution_count": 4,
   "metadata": {},
   "outputs": [
    {
     "data": {
      "text/plain": [
       "array([-1.43117607,  0.44492552,  0.69810416,  0.06482709, -0.86489488,\n",
       "       -0.70812893, -0.32536132, -1.45601239, -0.61879691,  0.61828011])"
      ]
     },
     "execution_count": 4,
     "metadata": {},
     "output_type": "execute_result"
    }
   ],
   "source": [
    "# Generate an array of 10 numbers according to a unit Gaussian distribution.\n",
    "rng.standard_normal(10)  "
   ]
  },
  {
   "cell_type": "code",
   "execution_count": 5,
   "metadata": {},
   "outputs": [
    {
     "data": {
      "text/plain": [
       "array([3, 0, 3, 2, 7], dtype=int64)"
      ]
     },
     "execution_count": 5,
     "metadata": {},
     "output_type": "execute_result"
    }
   ],
   "source": [
    "# Generate an array of 5 integers uniformly over the range [0, 10).\n",
    "rng.integers(low=0, high=10, size=5)  "
   ]
  },
  {
   "cell_type": "markdown",
   "metadata": {},
   "source": [
    "## Plotting Distributions\n",
    "\n",
    "***"
   ]
  },
  {
   "cell_type": "markdown",
   "metadata": {},
   "source": [
    "https://matplotlib.org/stable/api/_as_gen/matplotlib.pyplot.bar.html"
   ]
  },
  {
   "cell_type": "code",
   "execution_count": 6,
   "metadata": {},
   "outputs": [
    {
     "data": {
      "text/plain": [
       "array([10, 10,  9,  2, 10,  8,  4,  5,  8,  1,  2,  1,  1,  6,  7,  8,  8,\n",
       "        5,  6,  9,  5,  2,  7,  2,  7,  6,  2,  1,  1,  3,  6,  2,  5,  8,\n",
       "        4,  4,  6,  5,  4,  9, 10,  7,  7,  8, 10,  4,  5,  9,  1,  4,  7,\n",
       "        3,  3,  8,  4, 10,  2,  8,  1,  8,  2,  1,  9,  8,  2, 10, 10,  8,\n",
       "        3,  4,  2,  3,  1,  8,  1, 10,  7,  9,  7, 10,  2, 10,  2,  6,  9,\n",
       "        3,  8,  4,  1,  8,  6,  2,  3,  6,  1,  8,  8, 10,  9,  9],\n",
       "      dtype=int64)"
      ]
     },
     "execution_count": 6,
     "metadata": {},
     "output_type": "execute_result"
    }
   ],
   "source": [
    "# Generate a list of random integers between 1 (included) and 10 (included)\n",
    "# 11 not included\n",
    "rand_ints = rng.integers(low=1, high=11, size=100)\n",
    "\n",
    "# Show\n",
    "rand_ints"
   ]
  },
  {
   "cell_type": "markdown",
   "metadata": {},
   "source": [
    "https://numpy.org/doc/stable/reference/generated/numpy.unique.html"
   ]
  },
  {
   "cell_type": "code",
   "execution_count": 7,
   "metadata": {},
   "outputs": [
    {
     "data": {
      "text/plain": [
       "(array([ 1,  2,  3,  4,  5,  6,  7,  8,  9, 10], dtype=int64),\n",
       " array([12, 13,  7,  9,  6,  8,  8, 16,  9, 12], dtype=int64))"
      ]
     },
     "execution_count": 7,
     "metadata": {},
     "output_type": "execute_result"
    }
   ],
   "source": [
    "# The unique elements of rand_ints with the count of times it appears underneath\n",
    "np.unique(rand_ints, return_counts=True)"
   ]
  },
  {
   "cell_type": "code",
   "execution_count": 8,
   "metadata": {},
   "outputs": [
    {
     "data": {
      "text/plain": [
       "(array([ 1,  2,  3,  4,  5,  6,  7,  8,  9, 10], dtype=int64),\n",
       " array([12, 13,  7,  9,  6,  8,  8, 16,  9, 12], dtype=int64))"
      ]
     },
     "execution_count": 8,
     "metadata": {},
     "output_type": "execute_result"
    }
   ],
   "source": [
    "x, counts = np.unique(rand_ints, return_counts=True)\n",
    "\n",
    "# Show\n",
    "x, counts"
   ]
  },
  {
   "cell_type": "code",
   "execution_count": 9,
   "metadata": {},
   "outputs": [
    {
     "data": {
      "image/png": "[encoded data removed]",
      "text/plain": [
       "<Figure size 1200x300 with 1 Axes>"
      ]
     },
     "metadata": {},
     "output_type": "display_data"
    }
   ],
   "source": [
    "# Create an empty plot\n",
    "fig, ax = plt.subplots(figsize=(12,3))\n",
    "\n",
    "# Plot a bar chart\n",
    "\n",
    "ax.bar(x, counts); # The semicolon stops the message from printing out on top of chart"
   ]
  },
  {
   "cell_type": "markdown",
   "metadata": {},
   "source": [
    "## Plotting Histograms\n",
    "\n",
    "***"
   ]
  },
  {
   "cell_type": "code",
   "execution_count": 10,
   "metadata": {},
   "outputs": [],
   "source": [
    "# The lowest floating point number allowed\n",
    "bottom = 0.0\n",
    "\n",
    "# The highest point number (not) allowed(because end-point is excluded)\n",
    "top = 10\n",
    "\n",
    "#The number of floating point numbers to generate\n",
    "size = 1000"
   ]
  },
  {
   "cell_type": "code",
   "execution_count": 11,
   "metadata": {},
   "outputs": [
    {
     "data": {
      "text/plain": [
       "array([5.34758889e-01, 5.47967158e-01, 1.98451420e-01, 3.62545636e-01,\n",
       "       1.11691176e-01, 3.37803045e-01, 9.88671356e-01, 8.51745807e-01,\n",
       "       2.37788610e-01, 4.23682226e-01, 9.34170261e-01, 1.86560574e-01,\n",
       "       6.81288883e-01, 6.99142063e-01, 4.82649826e-01, 4.60051298e-01,\n",
       "       8.56963719e-01, 6.70154159e-01, 1.40087206e-01, 6.24918259e-01,\n",
       "       4.12200258e-01, 6.77348230e-01, 1.31695840e-01, 6.28110234e-01,\n",
       "       1.82428538e-01, 3.25546741e-01, 9.30911098e-01, 8.77616432e-01,\n",
       "       8.84033503e-02, 3.48918567e-01, 8.87574698e-01, 6.81710364e-01,\n",
       "       2.58764561e-01, 7.65897591e-01, 3.02581451e-01, 9.75541508e-01,\n",
       "       3.59154142e-01, 7.43555465e-01, 4.95726245e-01, 3.65739980e-01,\n",
       "       4.15961415e-01, 7.04034000e-01, 5.43725513e-01, 8.28521041e-01,\n",
       "       4.08104861e-01, 7.77904700e-01, 5.71899443e-01, 4.96307141e-01,\n",
       "       8.23321539e-01, 4.76035509e-01, 3.72197686e-01, 2.99450807e-01,\n",
       "       2.64661716e-01, 7.28017736e-02, 3.22519463e-02, 2.91834557e-01,\n",
       "       3.54687258e-01, 7.34256525e-01, 8.91342389e-01, 9.82908876e-01,\n",
       "       1.26996838e-01, 2.23236399e-01, 7.76800178e-01, 1.74164390e-01,\n",
       "       8.31193020e-01, 9.90544400e-01, 9.95206618e-01, 5.83140677e-01,\n",
       "       6.70658883e-01, 5.73721248e-01, 6.20103200e-01, 1.28682514e-01,\n",
       "       2.15669370e-01, 4.71942317e-01, 9.30275360e-01, 1.03619644e-01,\n",
       "       7.13841643e-01, 3.93326262e-01, 2.82420274e-01, 2.47896404e-01,\n",
       "       7.60156634e-01, 9.45977140e-01, 1.17222567e-01, 6.20380074e-01,\n",
       "       5.25820896e-01, 4.79159783e-01, 4.22123259e-01, 4.43118399e-01,\n",
       "       8.66657628e-01, 2.49746597e-02, 3.42544864e-02, 8.86950168e-01,\n",
       "       5.98725767e-01, 8.39823992e-01, 6.32658613e-01, 8.93303945e-01,\n",
       "       2.39902771e-01, 5.70844887e-01, 3.02223534e-01, 3.04783158e-01,\n",
       "       8.28117780e-01, 2.90791076e-01, 3.93337169e-01, 7.06314697e-01,\n",
       "       6.75352895e-01, 7.87954525e-01, 7.84147925e-01, 3.00714537e-01,\n",
       "       4.05020096e-01, 5.88999672e-01, 6.25706905e-01, 6.14017594e-01,\n",
       "       3.86110060e-01, 3.40822774e-01, 5.20861243e-01, 2.60290440e-01,\n",
       "       6.61892628e-01, 5.92666235e-01, 6.85669280e-01, 3.64938004e-01,\n",
       "       7.60015412e-02, 5.76003912e-01, 8.55271464e-01, 8.49119335e-01,\n",
       "       3.93655692e-01, 6.24074269e-01, 1.75475103e-01, 8.32432882e-01,\n",
       "       9.42072226e-01, 5.82135615e-01, 7.25658098e-01, 2.25049461e-02,\n",
       "       6.86749938e-01, 6.36278419e-01, 3.21526887e-01, 4.41108700e-01,\n",
       "       6.80667691e-01, 1.58884548e-01, 8.37053883e-01, 7.54897056e-01,\n",
       "       9.75750198e-01, 2.81289686e-01, 3.71083087e-01, 7.52469445e-01,\n",
       "       9.76046778e-01, 3.54701113e-01, 5.42113317e-01, 1.72149830e-01,\n",
       "       2.66028900e-01, 3.71147762e-01, 6.65482345e-01, 8.68170153e-01,\n",
       "       7.55760402e-01, 8.61370196e-01, 1.09907339e-01, 5.08744343e-01,\n",
       "       2.43358175e-01, 4.81580384e-01, 1.50610076e-01, 5.94977482e-01,\n",
       "       8.87384768e-01, 4.97902982e-01, 8.81874877e-01, 8.79121159e-01,\n",
       "       7.14422380e-01, 6.99594872e-02, 8.63066666e-01, 8.43774449e-01,\n",
       "       3.92830847e-01, 9.54492463e-01, 2.97159313e-01, 4.10896778e-01,\n",
       "       1.83133170e-01, 4.31057035e-01, 9.56288863e-01, 5.53215339e-01,\n",
       "       3.24644706e-01, 8.06063758e-01, 1.92300234e-01, 9.58679493e-01,\n",
       "       7.58705980e-01, 5.33659366e-01, 9.32356237e-02, 2.83883870e-01,\n",
       "       2.65786938e-01, 1.56414239e-01, 6.14130590e-01, 4.57121546e-01,\n",
       "       2.34556751e-01, 3.97842113e-01, 8.44005490e-01, 1.09609717e-01,\n",
       "       7.85549163e-01, 9.21636147e-01, 7.16033624e-01, 9.74749536e-01,\n",
       "       4.90007844e-01, 4.13643515e-01, 1.22476946e-02, 6.03319771e-01,\n",
       "       6.38716172e-01, 3.31731583e-01, 2.70097084e-01, 5.95321841e-01,\n",
       "       5.78434565e-01, 8.51853129e-02, 7.58079309e-01, 3.51015127e-01,\n",
       "       9.57678055e-01, 2.89457392e-01, 9.15523485e-01, 4.80800750e-01,\n",
       "       9.75686655e-01, 7.13859848e-01, 5.86961425e-01, 6.41690461e-01,\n",
       "       8.26734678e-01, 9.13420065e-01, 6.06012673e-01, 1.21385437e-01,\n",
       "       6.59310650e-01, 8.19949372e-01, 2.96754294e-02, 2.51502249e-01,\n",
       "       2.53101864e-01, 5.00789696e-01, 7.97751754e-01, 4.17509354e-01,\n",
       "       3.68518400e-01, 4.04545751e-01, 2.02994892e-01, 7.92613244e-01,\n",
       "       1.01792605e-01, 5.87641869e-01, 1.26657324e-01, 7.06766960e-01,\n",
       "       8.79248100e-01, 9.23833687e-01, 2.59777022e-03, 9.19754612e-01,\n",
       "       8.68287777e-01, 5.91600434e-01, 5.09182024e-01, 2.61351736e-01,\n",
       "       5.32298384e-01, 1.19235371e-01, 7.40062944e-01, 4.80920889e-01,\n",
       "       3.46691303e-01, 7.96061336e-01, 5.35612468e-01, 6.85098930e-01,\n",
       "       2.06782280e-01, 4.82802644e-01, 9.67201976e-01, 6.66541506e-01,\n",
       "       9.71662762e-01, 8.80870944e-01, 5.50725321e-01, 9.80014780e-01,\n",
       "       7.90128314e-02, 7.60486867e-01, 8.52013606e-01, 7.78704221e-01,\n",
       "       4.44362026e-01, 9.80031203e-02, 2.11265884e-01, 9.65605838e-01,\n",
       "       7.94938250e-01, 9.59430480e-01, 2.87585406e-01, 2.41116917e-01,\n",
       "       9.89730226e-01, 3.30918532e-01, 5.91479216e-01, 7.34756673e-01,\n",
       "       6.23012667e-01, 8.15394728e-01, 8.36239625e-02, 2.60286732e-01,\n",
       "       4.79612199e-01, 3.15991789e-01, 7.57228471e-01, 9.34846430e-01,\n",
       "       1.51810136e-01, 8.32862641e-02, 6.72872703e-01, 9.83369012e-01,\n",
       "       8.26943374e-01, 8.89749120e-01, 7.21584879e-01, 6.20915914e-01,\n",
       "       8.18517126e-01, 3.92068266e-01, 9.02667953e-02, 8.40136756e-01,\n",
       "       2.40396486e-01, 6.71539081e-01, 7.30666488e-01, 4.77083212e-01,\n",
       "       3.67925038e-01, 4.77724237e-01, 2.69825512e-01, 3.94701514e-01,\n",
       "       1.80364013e-01, 9.78240165e-01, 9.48930806e-02, 1.98766507e-02,\n",
       "       4.28946367e-01, 4.16420439e-01, 2.39863457e-01, 1.49446272e-01,\n",
       "       9.66349238e-01, 9.21631999e-01, 1.45218625e-01, 6.20343061e-01,\n",
       "       7.44181608e-01, 7.10199930e-01, 2.77695947e-01, 9.77727240e-01,\n",
       "       6.69902665e-01, 9.44482115e-01, 7.04660839e-01, 6.81222284e-01,\n",
       "       7.84542002e-01, 3.32054399e-01, 9.02508756e-01, 9.35768617e-01,\n",
       "       4.43018743e-01, 3.18609004e-01, 4.69344013e-01, 5.93896515e-01,\n",
       "       5.52085994e-01, 2.92890101e-01, 5.28152871e-02, 4.60135379e-01,\n",
       "       7.50364501e-02, 4.84858628e-01, 1.60655485e-01, 2.15155949e-01,\n",
       "       3.41201247e-01, 5.58182660e-01, 1.83404549e-01, 3.76989736e-01,\n",
       "       4.60032254e-01, 5.24761207e-01, 6.59999721e-01, 6.23562735e-01,\n",
       "       9.31141762e-01, 7.02549265e-01, 2.59729021e-01, 8.39971817e-01,\n",
       "       6.08118816e-01, 3.65761530e-01, 1.22892488e-01, 8.95908247e-01,\n",
       "       3.16847097e-01, 1.92043968e-01, 3.43639880e-01, 3.94881226e-01,\n",
       "       3.43444865e-01, 7.60115182e-01, 3.46544152e-01, 3.71170225e-01,\n",
       "       6.39096847e-01, 1.41528866e-01, 5.35246291e-01, 6.10055659e-01,\n",
       "       3.99189599e-01, 3.95917613e-01, 2.25897785e-01, 3.43516137e-01,\n",
       "       3.93019863e-01, 2.91913970e-01, 2.32169439e-01, 5.59756441e-01,\n",
       "       6.90819077e-01, 8.16046490e-01, 5.63865019e-02, 3.79105100e-01,\n",
       "       2.46871134e-01, 4.41526264e-01, 8.39505181e-01, 4.26030098e-01,\n",
       "       5.37524201e-01, 2.38643189e-01, 4.27838686e-01, 2.99959417e-01,\n",
       "       2.48081486e-02, 4.07451701e-01, 6.82767782e-01, 3.36674688e-01,\n",
       "       5.25724409e-01, 4.56237727e-01, 8.47970396e-03, 7.34030712e-01,\n",
       "       4.06680219e-02, 6.38914079e-01, 7.60354638e-01, 9.46248676e-01,\n",
       "       5.56204317e-01, 2.83630989e-01, 4.48863222e-01, 4.10356717e-01,\n",
       "       5.55431180e-01, 4.75756838e-01, 4.43568706e-01, 5.94468170e-01,\n",
       "       9.99270960e-01, 2.11256031e-01, 8.22338400e-01, 6.89799570e-01,\n",
       "       2.01009754e-01, 2.49027035e-01, 3.39800107e-01, 5.15167104e-01,\n",
       "       8.75843277e-01, 2.52866205e-01, 9.96799551e-02, 1.89572955e-01,\n",
       "       6.81175019e-01, 6.49736836e-01, 8.76031023e-01, 6.68901767e-01,\n",
       "       9.36323491e-01, 7.88060076e-01, 3.59394753e-01, 7.62274089e-01,\n",
       "       6.24088494e-01, 5.23044927e-01, 2.87826219e-01, 1.79635043e-01,\n",
       "       3.72609777e-01, 6.12798837e-01, 8.58994617e-01, 2.37536280e-01,\n",
       "       1.62041720e-01, 6.99079548e-01, 3.15182540e-01, 7.78751931e-01,\n",
       "       6.81482688e-01, 1.19662551e-01, 6.52090801e-01, 4.69624033e-01,\n",
       "       9.40346190e-01, 8.48349168e-01, 8.19284430e-01, 6.92324518e-01,\n",
       "       9.29716031e-01, 7.18316351e-01, 5.62461232e-01, 3.92127649e-01,\n",
       "       5.54655913e-01, 8.81239140e-01, 5.02718808e-01, 2.13515110e-01,\n",
       "       7.43161525e-01, 3.88369337e-01, 6.95841310e-01, 1.17717175e-01,\n",
       "       6.43395987e-01, 3.47882169e-01, 7.15899535e-01, 5.75492317e-01,\n",
       "       4.81223239e-01, 5.22783427e-01, 8.71978168e-01, 2.31508056e-01,\n",
       "       2.02047033e-01, 6.42155151e-01, 5.85491384e-02, 4.68999456e-02,\n",
       "       7.29268574e-01, 2.59206623e-01, 4.88175240e-01, 8.89773971e-01,\n",
       "       6.62656119e-01, 2.06253338e-01, 7.28200355e-01, 4.50820712e-01,\n",
       "       8.36710413e-01, 7.24979425e-01, 6.68785887e-01, 8.16287018e-01,\n",
       "       9.77031433e-01, 5.25278520e-01, 8.09616896e-01, 5.05652975e-01,\n",
       "       9.45088792e-01, 9.21009361e-01, 7.30734015e-02, 5.74940993e-01,\n",
       "       9.35683125e-01, 1.37781528e-01, 9.62325880e-01, 9.46182128e-01,\n",
       "       7.90185278e-01, 1.19999914e-01, 5.45894937e-02, 8.79696176e-01,\n",
       "       9.68804294e-01, 3.96025061e-02, 9.21935415e-01, 8.19288363e-01,\n",
       "       9.26913594e-01, 1.87965772e-01, 4.87863240e-01, 6.60760379e-02,\n",
       "       1.35421270e-01, 1.11133697e-01, 5.27160790e-01, 7.20267857e-01,\n",
       "       8.18372438e-01, 5.94044082e-01, 1.79113211e-01, 8.78187144e-01,\n",
       "       6.26170651e-01, 4.70671547e-01, 2.31468831e-01, 6.32982227e-01,\n",
       "       9.86480140e-01, 3.14755616e-01, 6.25344792e-01, 4.84731058e-01,\n",
       "       8.70198619e-01, 1.68971304e-01, 9.99740842e-01, 5.36624832e-01,\n",
       "       9.77267488e-01, 4.52732816e-01, 4.65489663e-02, 8.15433503e-01,\n",
       "       5.12014110e-01, 5.81887675e-01, 5.30563145e-01, 8.51944532e-02,\n",
       "       7.12295589e-01, 7.11375797e-01, 3.88204265e-01, 6.08285822e-01,\n",
       "       6.47057532e-01, 4.30008105e-01, 1.30399121e-01, 1.95513119e-01,\n",
       "       6.49431069e-02, 7.56100399e-02, 7.70132187e-01, 8.44161007e-01,\n",
       "       9.37013941e-01, 9.02188963e-01, 1.66192909e-01, 5.23962724e-01,\n",
       "       4.97841205e-01, 8.86009909e-01, 3.46273841e-01, 1.56304492e-02,\n",
       "       3.03572952e-01, 2.39429619e-01, 4.13738351e-01, 9.74727508e-01,\n",
       "       4.12435967e-01, 4.54565653e-01, 5.11060772e-01, 4.45217027e-01,\n",
       "       5.29515899e-01, 7.64178333e-01, 4.81229820e-01, 2.30959244e-01,\n",
       "       6.33645940e-01, 6.01044018e-01, 1.92799304e-01, 5.27438378e-01,\n",
       "       6.26627264e-01, 3.86527650e-01, 4.08991662e-01, 3.34189507e-01,\n",
       "       3.45313428e-01, 2.95551208e-02, 8.91871701e-01, 1.66165351e-01,\n",
       "       2.35930065e-01, 1.51159415e-01, 3.56948505e-01, 1.73649328e-02,\n",
       "       6.71187323e-01, 4.12321103e-01, 5.00483926e-01, 6.53453198e-01,\n",
       "       8.37893273e-01, 7.88493877e-01, 6.31625590e-01, 4.64631151e-03,\n",
       "       7.19085004e-01, 9.29370254e-02, 2.22364889e-01, 8.01640778e-01,\n",
       "       1.55388025e-01, 9.16000644e-01, 6.51561095e-02, 6.18866566e-01,\n",
       "       3.10532908e-01, 7.46825619e-01, 1.29306448e-01, 3.91654980e-01,\n",
       "       6.42729077e-01, 8.87086431e-01, 4.62647944e-01, 8.01507035e-01,\n",
       "       7.23155643e-01, 9.92165820e-01, 8.98070540e-01, 2.92367313e-01,\n",
       "       4.39977394e-01, 2.22372199e-01, 7.14233908e-01, 1.31510086e-01,\n",
       "       8.51650850e-01, 5.52561066e-01, 8.25796816e-01, 2.74646096e-01,\n",
       "       4.49400740e-04, 8.66341783e-01, 1.89448221e-01, 2.50913196e-01,\n",
       "       2.12366401e-01, 2.84171627e-01, 4.56504673e-01, 2.18299641e-01,\n",
       "       4.79896006e-01, 9.93651323e-01, 1.27231843e-01, 2.32524975e-01,\n",
       "       1.58281395e-01, 8.88706517e-01, 7.92200280e-01, 1.79814682e-01,\n",
       "       7.78717170e-01, 6.23975752e-01, 5.21845118e-01, 1.27678976e-01,\n",
       "       1.04877534e-01, 7.26155342e-01, 7.09064381e-01, 7.03939879e-01,\n",
       "       4.79762142e-01, 2.98177569e-01, 1.09697403e-01, 6.34886813e-01,\n",
       "       6.11867079e-01, 9.37525226e-01, 8.77954731e-01, 6.07144659e-01,\n",
       "       8.26275346e-01, 6.34353340e-01, 9.65344276e-01, 6.60049689e-01,\n",
       "       7.32898033e-02, 7.94790132e-01, 1.61042239e-01, 3.60608899e-01,\n",
       "       3.41099570e-02, 3.48738896e-01, 6.40524289e-01, 3.24062732e-01,\n",
       "       2.77596588e-01, 5.19485703e-01, 4.02497922e-01, 9.36303593e-01,\n",
       "       9.85993979e-01, 2.03298995e-02, 5.47768995e-02, 3.24049377e-01,\n",
       "       9.17438351e-01, 3.37593802e-01, 7.87340384e-01, 8.22124842e-01,\n",
       "       6.12436254e-01, 8.37611405e-01, 8.79515061e-01, 3.29108809e-02,\n",
       "       7.38657299e-02, 3.80999026e-01, 1.50009840e-02, 6.60345844e-02,\n",
       "       9.49347040e-01, 8.13024106e-01, 6.50278832e-02, 7.83945374e-01,\n",
       "       8.40198224e-01, 9.91082273e-01, 3.37855687e-01, 8.57140692e-01,\n",
       "       7.77368923e-01, 4.63339030e-01, 4.60163174e-01, 3.06432016e-01,\n",
       "       8.09559563e-01, 7.28463171e-01, 5.15810273e-01, 2.47992108e-01,\n",
       "       4.18326084e-01, 6.72002095e-01, 7.66842256e-01, 5.44703420e-01,\n",
       "       8.78045210e-01, 7.93457966e-01, 4.76613835e-01, 2.17773146e-01,\n",
       "       3.20658090e-01, 8.18272731e-01, 9.67544183e-01, 7.83874502e-02,\n",
       "       2.99001445e-01, 9.63745808e-01, 4.83478823e-02, 2.28164670e-01,\n",
       "       8.01870257e-01, 5.04339282e-01, 9.07548157e-01, 8.49838409e-01,\n",
       "       3.64935734e-01, 7.79159958e-01, 3.73860999e-01, 1.39108865e-01,\n",
       "       2.52735105e-01, 4.74271433e-01, 6.71645952e-01, 5.36623107e-01,\n",
       "       8.67662217e-01, 9.60585773e-01, 7.64178648e-01, 7.40929504e-01,\n",
       "       5.57789158e-01, 5.06683096e-01, 9.81408407e-01, 6.82201560e-01,\n",
       "       4.66274724e-01, 6.28912387e-01, 3.25623567e-02, 6.15245030e-01,\n",
       "       1.05351832e-01, 5.16420632e-01, 5.86090994e-03, 7.57565549e-01,\n",
       "       7.98703766e-01, 2.75062513e-01, 4.57730030e-01, 9.60437662e-01,\n",
       "       7.77457716e-01, 2.31683547e-02, 3.11669338e-01, 3.56893568e-01,\n",
       "       6.52400371e-01, 5.43506274e-01, 6.36606599e-01, 6.20975757e-01,\n",
       "       3.93342912e-01, 8.49072326e-02, 5.73388160e-01, 5.22951732e-01,\n",
       "       7.82038650e-01, 3.02043109e-01, 4.60667713e-01, 4.32506198e-01,\n",
       "       5.10025200e-01, 6.32391101e-01, 1.29564823e-01, 5.35012942e-01,\n",
       "       8.67807628e-01, 2.05571769e-01, 3.78157867e-01, 3.01291962e-01,\n",
       "       8.91970306e-01, 3.74459989e-01, 6.44533065e-02, 3.18268774e-01,\n",
       "       6.57406316e-01, 2.48870369e-01, 6.01890269e-01, 4.81257659e-01,\n",
       "       7.66360203e-01, 3.09687287e-01, 9.99515316e-01, 3.82062570e-01,\n",
       "       2.66975360e-03, 8.94608163e-01, 9.43659098e-01, 3.44365263e-01,\n",
       "       4.50489387e-01, 2.37968814e-01, 6.57770708e-01, 1.89690398e-01,\n",
       "       9.94950438e-01, 5.92602877e-01, 1.67511272e-01, 6.16373580e-01,\n",
       "       2.71499906e-01, 5.83803695e-01, 3.08940677e-01, 9.84697994e-01,\n",
       "       3.38637705e-01, 4.12375121e-01, 4.87338704e-01, 7.47195308e-01,\n",
       "       1.57588074e-01, 2.96852727e-01, 1.04479030e-01, 1.78090555e-01,\n",
       "       6.89499428e-01, 5.82389345e-01, 5.70889039e-01, 5.03675114e-01,\n",
       "       3.79881862e-01, 5.36553210e-01, 8.79853446e-01, 1.62993025e-02,\n",
       "       4.48352743e-01, 9.35161977e-01, 1.11588831e-01, 1.89162263e-01,\n",
       "       1.06694863e-01, 1.63093741e-01, 1.57489705e-01, 2.83472170e-01,\n",
       "       4.00013382e-01, 9.13142475e-02, 1.13930014e-01, 1.91712520e-01,\n",
       "       5.49542249e-01, 2.21722399e-01, 1.44546497e-01, 4.36765669e-01,\n",
       "       8.84592820e-01, 8.49488597e-01, 8.47824947e-01, 4.88992995e-01,\n",
       "       4.05287001e-01, 2.29151787e-02, 7.04245839e-01, 8.74192938e-01,\n",
       "       1.82167696e-01, 1.97704139e-01, 7.07124758e-01, 3.70486228e-01,\n",
       "       5.10069283e-01, 1.61501022e-01, 2.25709837e-01, 6.21186800e-01,\n",
       "       3.50153220e-01, 9.97729060e-01, 8.89888591e-01, 9.96652078e-01,\n",
       "       5.08608546e-01, 6.61921739e-01, 9.89027846e-01, 7.91991968e-01,\n",
       "       3.99584168e-01, 8.32529852e-01, 2.42482218e-01, 3.51013699e-01,\n",
       "       3.94176912e-06, 5.90145536e-01, 6.99887407e-02, 5.67687396e-01,\n",
       "       6.72213263e-01, 6.19808207e-01, 7.14134839e-02, 3.25091391e-01,\n",
       "       6.51928044e-01, 5.00457925e-01, 4.71751155e-01, 4.64736993e-01,\n",
       "       6.44298765e-01, 4.65535202e-01, 6.75955223e-02, 6.54892910e-02,\n",
       "       2.86031300e-01, 3.25669386e-01, 4.33351009e-01, 4.55221740e-01,\n",
       "       8.98504218e-01, 3.63901672e-01, 3.01468495e-01, 4.47959318e-01,\n",
       "       2.45415981e-01, 8.79615232e-01, 6.65966304e-01, 6.66880326e-01,\n",
       "       3.90771976e-01, 8.52162275e-01, 8.30687781e-01, 2.13968565e-01,\n",
       "       8.13722919e-01, 5.72260121e-01, 6.51151396e-01, 5.65082577e-01,\n",
       "       4.22486940e-01, 9.67657645e-01, 9.15755504e-01, 3.49093216e-01,\n",
       "       2.33751635e-02, 5.22027651e-01, 8.38273549e-01, 1.11323429e-01,\n",
       "       2.70963164e-01, 2.22726800e-01, 6.39425437e-01, 1.32800277e-01,\n",
       "       3.56928083e-01, 5.10638185e-01, 3.62286834e-01, 7.10344164e-02,\n",
       "       7.64303312e-01, 7.89113852e-01, 5.08187956e-01, 1.07257902e-01,\n",
       "       9.04333951e-01, 7.73579177e-01, 9.88573614e-01, 7.22298251e-01,\n",
       "       5.71658619e-01, 7.17221949e-01, 9.29856055e-02, 8.48363536e-01,\n",
       "       3.66218356e-01, 1.48379066e-01, 2.17888287e-02, 5.82973344e-02,\n",
       "       1.41458036e-01, 4.83565591e-01, 2.38479656e-02, 3.32276686e-01,\n",
       "       3.36007248e-01, 3.65794291e-01, 6.09023594e-01, 9.45856401e-01,\n",
       "       9.05160997e-01, 7.93981710e-01, 7.48998035e-01, 3.31667053e-01,\n",
       "       4.54180318e-01, 4.59711930e-01, 6.13664342e-01, 3.53097354e-01,\n",
       "       7.57126661e-01, 1.57150137e-01, 2.85660341e-01, 1.82870630e-01,\n",
       "       9.21506488e-02, 5.07567916e-01, 8.10658625e-01, 8.36055738e-01,\n",
       "       3.77330425e-01, 1.44858437e-01, 7.61632948e-04, 1.03516807e-01,\n",
       "       6.52609264e-01, 7.77003758e-01, 5.50564033e-01, 7.00788998e-01,\n",
       "       9.39992784e-01, 8.54820305e-01, 9.80474433e-01, 9.41885567e-01,\n",
       "       1.80741970e-01, 2.12734351e-02, 8.30139885e-01, 8.61978551e-01,\n",
       "       9.74481107e-01, 1.22582996e-01, 6.00833894e-01, 2.10442013e-01,\n",
       "       6.61841287e-01, 8.71193606e-01, 4.89394849e-01, 1.52154418e-01,\n",
       "       6.78858896e-01, 7.95312055e-01, 9.15988692e-01, 3.48304267e-01,\n",
       "       7.81678222e-01, 8.02630350e-01, 9.69275315e-01, 9.30311952e-01,\n",
       "       3.41606636e-01, 9.78263875e-01, 2.96767551e-02, 5.45417190e-01,\n",
       "       8.99085322e-01, 9.55653028e-01, 2.56465886e-01, 6.83998614e-01,\n",
       "       4.48449845e-01, 1.51267266e-01, 4.36199922e-02, 3.54745866e-01,\n",
       "       8.14518933e-01, 1.00172614e-01, 5.23170733e-01, 1.39133171e-01])"
      ]
     },
     "execution_count": 11,
     "metadata": {},
     "output_type": "execute_result"
    }
   ],
   "source": [
    "# Generate random floating point numbers between 0.0 (included) and 1.0 (excluded)\n",
    "rand_floats = rng.random(size)\n",
    "\n",
    "# Show\n",
    "rand_floats"
   ]
  },
  {
   "cell_type": "code",
   "execution_count": 12,
   "metadata": {},
   "outputs": [
    {
     "data": {
      "text/plain": [
       "(array([3.94176912e-06, 4.49400740e-04, 7.61632948e-04, 2.59777022e-03,\n",
       "        2.66975360e-03, 4.64631151e-03, 5.86090994e-03, 8.47970396e-03,\n",
       "        1.22476946e-02, 1.50009840e-02, 1.56304492e-02, 1.62993025e-02,\n",
       "        1.73649328e-02, 1.98766507e-02, 2.03298995e-02, 2.12734351e-02,\n",
       "        2.17888287e-02, 2.25049461e-02, 2.29151787e-02, 2.31683547e-02,\n",
       "        2.33751635e-02, 2.38479656e-02, 2.48081486e-02, 2.49746597e-02,\n",
       "        2.95551208e-02, 2.96754294e-02, 2.96767551e-02, 3.22519463e-02,\n",
       "        3.25623567e-02, 3.29108809e-02, 3.41099570e-02, 3.42544864e-02,\n",
       "        3.96025061e-02, 4.06680219e-02, 4.36199922e-02, 4.65489663e-02,\n",
       "        4.68999456e-02, 4.83478823e-02, 5.28152871e-02, 5.45894937e-02,\n",
       "        5.47768995e-02, 5.63865019e-02, 5.82973344e-02, 5.85491384e-02,\n",
       "        6.44533065e-02, 6.49431069e-02, 6.50278832e-02, 6.51561095e-02,\n",
       "        6.54892910e-02, 6.60345844e-02, 6.60760379e-02, 6.75955223e-02,\n",
       "        6.99594872e-02, 6.99887407e-02, 7.10344164e-02, 7.14134839e-02,\n",
       "        7.28017736e-02, 7.30734015e-02, 7.32898033e-02, 7.38657299e-02,\n",
       "        7.50364501e-02, 7.56100399e-02, 7.60015412e-02, 7.83874502e-02,\n",
       "        7.90128314e-02, 8.32862641e-02, 8.36239625e-02, 8.49072326e-02,\n",
       "        8.51853129e-02, 8.51944532e-02, 8.84033503e-02, 9.02667953e-02,\n",
       "        9.13142475e-02, 9.21506488e-02, 9.29370254e-02, 9.29856055e-02,\n",
       "        9.32356237e-02, 9.48930806e-02, 9.80031203e-02, 9.96799551e-02,\n",
       "        1.00172614e-01, 1.01792605e-01, 1.03516807e-01, 1.03619644e-01,\n",
       "        1.04479030e-01, 1.04877534e-01, 1.05351832e-01, 1.06694863e-01,\n",
       "        1.07257902e-01, 1.09609717e-01, 1.09697403e-01, 1.09907339e-01,\n",
       "        1.11133697e-01, 1.11323429e-01, 1.11588831e-01, 1.11691176e-01,\n",
       "        1.13930014e-01, 1.17222567e-01, 1.17717175e-01, 1.19235371e-01,\n",
       "        1.19662551e-01, 1.19999914e-01, 1.21385437e-01, 1.22582996e-01,\n",
       "        1.22892488e-01, 1.26657324e-01, 1.26996838e-01, 1.27231843e-01,\n",
       "        1.27678976e-01, 1.28682514e-01, 1.29306448e-01, 1.29564823e-01,\n",
       "        1.30399121e-01, 1.31510086e-01, 1.31695840e-01, 1.32800277e-01,\n",
       "        1.35421270e-01, 1.37781528e-01, 1.39108865e-01, 1.39133171e-01,\n",
       "        1.40087206e-01, 1.41458036e-01, 1.41528866e-01, 1.44546497e-01,\n",
       "        1.44858437e-01, 1.45218625e-01, 1.48379066e-01, 1.49446272e-01,\n",
       "        1.50610076e-01, 1.51159415e-01, 1.51267266e-01, 1.51810136e-01,\n",
       "        1.52154418e-01, 1.55388025e-01, 1.56414239e-01, 1.57150137e-01,\n",
       "        1.57489705e-01, 1.57588074e-01, 1.58281395e-01, 1.58884548e-01,\n",
       "        1.60655485e-01, 1.61042239e-01, 1.61501022e-01, 1.62041720e-01,\n",
       "        1.63093741e-01, 1.66165351e-01, 1.66192909e-01, 1.67511272e-01,\n",
       "        1.68971304e-01, 1.72149830e-01, 1.74164390e-01, 1.75475103e-01,\n",
       "        1.78090555e-01, 1.79113211e-01, 1.79635043e-01, 1.79814682e-01,\n",
       "        1.80364013e-01, 1.80741970e-01, 1.82167696e-01, 1.82428538e-01,\n",
       "        1.82870630e-01, 1.83133170e-01, 1.83404549e-01, 1.86560574e-01,\n",
       "        1.87965772e-01, 1.89162263e-01, 1.89448221e-01, 1.89572955e-01,\n",
       "        1.89690398e-01, 1.91712520e-01, 1.92043968e-01, 1.92300234e-01,\n",
       "        1.92799304e-01, 1.95513119e-01, 1.97704139e-01, 1.98451420e-01,\n",
       "        2.01009754e-01, 2.02047033e-01, 2.02994892e-01, 2.05571769e-01,\n",
       "        2.06253338e-01, 2.06782280e-01, 2.10442013e-01, 2.11256031e-01,\n",
       "        2.11265884e-01, 2.12366401e-01, 2.13515110e-01, 2.13968565e-01,\n",
       "        2.15155949e-01, 2.15669370e-01, 2.17773146e-01, 2.18299641e-01,\n",
       "        2.21722399e-01, 2.22364889e-01, 2.22372199e-01, 2.22726800e-01,\n",
       "        2.23236399e-01, 2.25709837e-01, 2.25897785e-01, 2.28164670e-01,\n",
       "        2.30959244e-01, 2.31468831e-01, 2.31508056e-01, 2.32169439e-01,\n",
       "        2.32524975e-01, 2.34556751e-01, 2.35930065e-01, 2.37536280e-01,\n",
       "        2.37788610e-01, 2.37968814e-01, 2.38643189e-01, 2.39429619e-01,\n",
       "        2.39863457e-01, 2.39902771e-01, 2.40396486e-01, 2.41116917e-01,\n",
       "        2.42482218e-01, 2.43358175e-01, 2.45415981e-01, 2.46871134e-01,\n",
       "        2.47896404e-01, 2.47992108e-01, 2.48870369e-01, 2.49027035e-01,\n",
       "        2.50913196e-01, 2.51502249e-01, 2.52735105e-01, 2.52866205e-01,\n",
       "        2.53101864e-01, 2.56465886e-01, 2.58764561e-01, 2.59206623e-01,\n",
       "        2.59729021e-01, 2.60286732e-01, 2.60290440e-01, 2.61351736e-01,\n",
       "        2.64661716e-01, 2.65786938e-01, 2.66028900e-01, 2.69825512e-01,\n",
       "        2.70097084e-01, 2.70963164e-01, 2.71499906e-01, 2.74646096e-01,\n",
       "        2.75062513e-01, 2.77596588e-01, 2.77695947e-01, 2.81289686e-01,\n",
       "        2.82420274e-01, 2.83472170e-01, 2.83630989e-01, 2.83883870e-01,\n",
       "        2.84171627e-01, 2.85660341e-01, 2.86031300e-01, 2.87585406e-01,\n",
       "        2.87826219e-01, 2.89457392e-01, 2.90791076e-01, 2.91834557e-01,\n",
       "        2.91913970e-01, 2.92367313e-01, 2.92890101e-01, 2.96852727e-01,\n",
       "        2.97159313e-01, 2.98177569e-01, 2.99001445e-01, 2.99450807e-01,\n",
       "        2.99959417e-01, 3.00714537e-01, 3.01291962e-01, 3.01468495e-01,\n",
       "        3.02043109e-01, 3.02223534e-01, 3.02581451e-01, 3.03572952e-01,\n",
       "        3.04783158e-01, 3.06432016e-01, 3.08940677e-01, 3.09687287e-01,\n",
       "        3.10532908e-01, 3.11669338e-01, 3.14755616e-01, 3.15182540e-01,\n",
       "        3.15991789e-01, 3.16847097e-01, 3.18268774e-01, 3.18609004e-01,\n",
       "        3.20658090e-01, 3.21526887e-01, 3.24049377e-01, 3.24062732e-01,\n",
       "        3.24644706e-01, 3.25091391e-01, 3.25546741e-01, 3.25669386e-01,\n",
       "        3.30918532e-01, 3.31667053e-01, 3.31731583e-01, 3.32054399e-01,\n",
       "        3.32276686e-01, 3.34189507e-01, 3.36007248e-01, 3.36674688e-01,\n",
       "        3.37593802e-01, 3.37803045e-01, 3.37855687e-01, 3.38637705e-01,\n",
       "        3.39800107e-01, 3.40822774e-01, 3.41201247e-01, 3.41606636e-01,\n",
       "        3.43444865e-01, 3.43516137e-01, 3.43639880e-01, 3.44365263e-01,\n",
       "        3.45313428e-01, 3.46273841e-01, 3.46544152e-01, 3.46691303e-01,\n",
       "        3.47882169e-01, 3.48304267e-01, 3.48738896e-01, 3.48918567e-01,\n",
       "        3.49093216e-01, 3.50153220e-01, 3.51013699e-01, 3.51015127e-01,\n",
       "        3.53097354e-01, 3.54687258e-01, 3.54701113e-01, 3.54745866e-01,\n",
       "        3.56893568e-01, 3.56928083e-01, 3.56948505e-01, 3.59154142e-01,\n",
       "        3.59394753e-01, 3.60608899e-01, 3.62286834e-01, 3.62545636e-01,\n",
       "        3.63901672e-01, 3.64935734e-01, 3.64938004e-01, 3.65739980e-01,\n",
       "        3.65761530e-01, 3.65794291e-01, 3.66218356e-01, 3.67925038e-01,\n",
       "        3.68518400e-01, 3.70486228e-01, 3.71083087e-01, 3.71147762e-01,\n",
       "        3.71170225e-01, 3.72197686e-01, 3.72609777e-01, 3.73860999e-01,\n",
       "        3.74459989e-01, 3.76989736e-01, 3.77330425e-01, 3.78157867e-01,\n",
       "        3.79105100e-01, 3.79881862e-01, 3.80999026e-01, 3.82062570e-01,\n",
       "        3.86110060e-01, 3.86527650e-01, 3.88204265e-01, 3.88369337e-01,\n",
       "        3.90771976e-01, 3.91654980e-01, 3.92068266e-01, 3.92127649e-01,\n",
       "        3.92830847e-01, 3.93019863e-01, 3.93326262e-01, 3.93337169e-01,\n",
       "        3.93342912e-01, 3.93655692e-01, 3.94701514e-01, 3.94881226e-01,\n",
       "        3.95917613e-01, 3.97842113e-01, 3.99189599e-01, 3.99584168e-01,\n",
       "        4.00013382e-01, 4.02497922e-01, 4.04545751e-01, 4.05020096e-01,\n",
       "        4.05287001e-01, 4.07451701e-01, 4.08104861e-01, 4.08991662e-01,\n",
       "        4.10356717e-01, 4.10896778e-01, 4.12200258e-01, 4.12321103e-01,\n",
       "        4.12375121e-01, 4.12435967e-01, 4.13643515e-01, 4.13738351e-01,\n",
       "        4.15961415e-01, 4.16420439e-01, 4.17509354e-01, 4.18326084e-01,\n",
       "        4.22123259e-01, 4.22486940e-01, 4.23682226e-01, 4.26030098e-01,\n",
       "        4.27838686e-01, 4.28946367e-01, 4.30008105e-01, 4.31057035e-01,\n",
       "        4.32506198e-01, 4.33351009e-01, 4.36765669e-01, 4.39977394e-01,\n",
       "        4.41108700e-01, 4.41526264e-01, 4.43018743e-01, 4.43118399e-01,\n",
       "        4.43568706e-01, 4.44362026e-01, 4.45217027e-01, 4.47959318e-01,\n",
       "        4.48352743e-01, 4.48449845e-01, 4.48863222e-01, 4.50489387e-01,\n",
       "        4.50820712e-01, 4.52732816e-01, 4.54180318e-01, 4.54565653e-01,\n",
       "        4.55221740e-01, 4.56237727e-01, 4.56504673e-01, 4.57121546e-01,\n",
       "        4.57730030e-01, 4.59711930e-01, 4.60032254e-01, 4.60051298e-01,\n",
       "        4.60135379e-01, 4.60163174e-01, 4.60667713e-01, 4.62647944e-01,\n",
       "        4.63339030e-01, 4.64736993e-01, 4.65535202e-01, 4.66274724e-01,\n",
       "        4.69344013e-01, 4.69624033e-01, 4.70671547e-01, 4.71751155e-01,\n",
       "        4.71942317e-01, 4.74271433e-01, 4.75756838e-01, 4.76035509e-01,\n",
       "        4.76613835e-01, 4.77083212e-01, 4.77724237e-01, 4.79159783e-01,\n",
       "        4.79612199e-01, 4.79762142e-01, 4.79896006e-01, 4.80800750e-01,\n",
       "        4.80920889e-01, 4.81223239e-01, 4.81229820e-01, 4.81257659e-01,\n",
       "        4.81580384e-01, 4.82649826e-01, 4.82802644e-01, 4.83565591e-01,\n",
       "        4.84731058e-01, 4.84858628e-01, 4.87338704e-01, 4.87863240e-01,\n",
       "        4.88175240e-01, 4.88992995e-01, 4.89394849e-01, 4.90007844e-01,\n",
       "        4.95726245e-01, 4.96307141e-01, 4.97841205e-01, 4.97902982e-01,\n",
       "        5.00457925e-01, 5.00483926e-01, 5.00789696e-01, 5.02718808e-01,\n",
       "        5.03675114e-01, 5.04339282e-01, 5.05652975e-01, 5.06683096e-01,\n",
       "        5.07567916e-01, 5.08187956e-01, 5.08608546e-01, 5.08744343e-01,\n",
       "        5.09182024e-01, 5.10025200e-01, 5.10069283e-01, 5.10638185e-01,\n",
       "        5.11060772e-01, 5.12014110e-01, 5.15167104e-01, 5.15810273e-01,\n",
       "        5.16420632e-01, 5.19485703e-01, 5.20861243e-01, 5.21845118e-01,\n",
       "        5.22027651e-01, 5.22783427e-01, 5.22951732e-01, 5.23044927e-01,\n",
       "        5.23170733e-01, 5.23962724e-01, 5.24761207e-01, 5.25278520e-01,\n",
       "        5.25724409e-01, 5.25820896e-01, 5.27160790e-01, 5.27438378e-01,\n",
       "        5.29515899e-01, 5.30563145e-01, 5.32298384e-01, 5.33659366e-01,\n",
       "        5.34758889e-01, 5.35012942e-01, 5.35246291e-01, 5.35612468e-01,\n",
       "        5.36553210e-01, 5.36623107e-01, 5.36624832e-01, 5.37524201e-01,\n",
       "        5.42113317e-01, 5.43506274e-01, 5.43725513e-01, 5.44703420e-01,\n",
       "        5.45417190e-01, 5.47967158e-01, 5.49542249e-01, 5.50564033e-01,\n",
       "        5.50725321e-01, 5.52085994e-01, 5.52561066e-01, 5.53215339e-01,\n",
       "        5.54655913e-01, 5.55431180e-01, 5.56204317e-01, 5.57789158e-01,\n",
       "        5.58182660e-01, 5.59756441e-01, 5.62461232e-01, 5.65082577e-01,\n",
       "        5.67687396e-01, 5.70844887e-01, 5.70889039e-01, 5.71658619e-01,\n",
       "        5.71899443e-01, 5.72260121e-01, 5.73388160e-01, 5.73721248e-01,\n",
       "        5.74940993e-01, 5.75492317e-01, 5.76003912e-01, 5.78434565e-01,\n",
       "        5.81887675e-01, 5.82135615e-01, 5.82389345e-01, 5.83140677e-01,\n",
       "        5.83803695e-01, 5.86961425e-01, 5.87641869e-01, 5.88999672e-01,\n",
       "        5.90145536e-01, 5.91479216e-01, 5.91600434e-01, 5.92602877e-01,\n",
       "        5.92666235e-01, 5.93896515e-01, 5.94044082e-01, 5.94468170e-01,\n",
       "        5.94977482e-01, 5.95321841e-01, 5.98725767e-01, 6.00833894e-01,\n",
       "        6.01044018e-01, 6.01890269e-01, 6.03319771e-01, 6.06012673e-01,\n",
       "        6.07144659e-01, 6.08118816e-01, 6.08285822e-01, 6.09023594e-01,\n",
       "        6.10055659e-01, 6.11867079e-01, 6.12436254e-01, 6.12798837e-01,\n",
       "        6.13664342e-01, 6.14017594e-01, 6.14130590e-01, 6.15245030e-01,\n",
       "        6.16373580e-01, 6.18866566e-01, 6.19808207e-01, 6.20103200e-01,\n",
       "        6.20343061e-01, 6.20380074e-01, 6.20915914e-01, 6.20975757e-01,\n",
       "        6.21186800e-01, 6.23012667e-01, 6.23562735e-01, 6.23975752e-01,\n",
       "        6.24074269e-01, 6.24088494e-01, 6.24918259e-01, 6.25344792e-01,\n",
       "        6.25706905e-01, 6.26170651e-01, 6.26627264e-01, 6.28110234e-01,\n",
       "        6.28912387e-01, 6.31625590e-01, 6.32391101e-01, 6.32658613e-01,\n",
       "        6.32982227e-01, 6.33645940e-01, 6.34353340e-01, 6.34886813e-01,\n",
       "        6.36278419e-01, 6.36606599e-01, 6.38716172e-01, 6.38914079e-01,\n",
       "        6.39096847e-01, 6.39425437e-01, 6.40524289e-01, 6.41690461e-01,\n",
       "        6.42155151e-01, 6.42729077e-01, 6.43395987e-01, 6.44298765e-01,\n",
       "        6.47057532e-01, 6.49736836e-01, 6.51151396e-01, 6.51928044e-01,\n",
       "        6.52090801e-01, 6.52400371e-01, 6.52609264e-01, 6.53453198e-01,\n",
       "        6.57406316e-01, 6.57770708e-01, 6.59310650e-01, 6.59999721e-01,\n",
       "        6.60049689e-01, 6.61841287e-01, 6.61892628e-01, 6.61921739e-01,\n",
       "        6.62656119e-01, 6.65482345e-01, 6.65966304e-01, 6.66541506e-01,\n",
       "        6.66880326e-01, 6.68785887e-01, 6.68901767e-01, 6.69902665e-01,\n",
       "        6.70154159e-01, 6.70658883e-01, 6.71187323e-01, 6.71539081e-01,\n",
       "        6.71645952e-01, 6.72002095e-01, 6.72213263e-01, 6.72872703e-01,\n",
       "        6.75352895e-01, 6.77348230e-01, 6.78858896e-01, 6.80667691e-01,\n",
       "        6.81175019e-01, 6.81222284e-01, 6.81288883e-01, 6.81482688e-01,\n",
       "        6.81710364e-01, 6.82201560e-01, 6.82767782e-01, 6.83998614e-01,\n",
       "        6.85098930e-01, 6.85669280e-01, 6.86749938e-01, 6.89499428e-01,\n",
       "        6.89799570e-01, 6.90819077e-01, 6.92324518e-01, 6.95841310e-01,\n",
       "        6.99079548e-01, 6.99142063e-01, 7.00788998e-01, 7.02549265e-01,\n",
       "        7.03939879e-01, 7.04034000e-01, 7.04245839e-01, 7.04660839e-01,\n",
       "        7.06314697e-01, 7.06766960e-01, 7.07124758e-01, 7.09064381e-01,\n",
       "        7.10199930e-01, 7.11375797e-01, 7.12295589e-01, 7.13841643e-01,\n",
       "        7.13859848e-01, 7.14233908e-01, 7.14422380e-01, 7.15899535e-01,\n",
       "        7.16033624e-01, 7.17221949e-01, 7.18316351e-01, 7.19085004e-01,\n",
       "        7.20267857e-01, 7.21584879e-01, 7.22298251e-01, 7.23155643e-01,\n",
       "        7.24979425e-01, 7.25658098e-01, 7.26155342e-01, 7.28200355e-01,\n",
       "        7.28463171e-01, 7.29268574e-01, 7.30666488e-01, 7.34030712e-01,\n",
       "        7.34256525e-01, 7.34756673e-01, 7.40062944e-01, 7.40929504e-01,\n",
       "        7.43161525e-01, 7.43555465e-01, 7.44181608e-01, 7.46825619e-01,\n",
       "        7.47195308e-01, 7.48998035e-01, 7.52469445e-01, 7.54897056e-01,\n",
       "        7.55760402e-01, 7.57126661e-01, 7.57228471e-01, 7.57565549e-01,\n",
       "        7.58079309e-01, 7.58705980e-01, 7.60115182e-01, 7.60156634e-01,\n",
       "        7.60354638e-01, 7.60486867e-01, 7.62274089e-01, 7.64178333e-01,\n",
       "        7.64178648e-01, 7.64303312e-01, 7.65897591e-01, 7.66360203e-01,\n",
       "        7.66842256e-01, 7.70132187e-01, 7.73579177e-01, 7.76800178e-01,\n",
       "        7.77003758e-01, 7.77368923e-01, 7.77457716e-01, 7.77904700e-01,\n",
       "        7.78704221e-01, 7.78717170e-01, 7.78751931e-01, 7.79159958e-01,\n",
       "        7.81678222e-01, 7.82038650e-01, 7.83945374e-01, 7.84147925e-01,\n",
       "        7.84542002e-01, 7.85549163e-01, 7.87340384e-01, 7.87954525e-01,\n",
       "        7.88060076e-01, 7.88493877e-01, 7.89113852e-01, 7.90185278e-01,\n",
       "        7.91991968e-01, 7.92200280e-01, 7.92613244e-01, 7.93457966e-01,\n",
       "        7.93981710e-01, 7.94790132e-01, 7.94938250e-01, 7.95312055e-01,\n",
       "        7.96061336e-01, 7.97751754e-01, 7.98703766e-01, 8.01507035e-01,\n",
       "        8.01640778e-01, 8.01870257e-01, 8.02630350e-01, 8.06063758e-01,\n",
       "        8.09559563e-01, 8.09616896e-01, 8.10658625e-01, 8.13024106e-01,\n",
       "        8.13722919e-01, 8.14518933e-01, 8.15394728e-01, 8.15433503e-01,\n",
       "        8.16046490e-01, 8.16287018e-01, 8.18272731e-01, 8.18372438e-01,\n",
       "        8.18517126e-01, 8.19284430e-01, 8.19288363e-01, 8.19949372e-01,\n",
       "        8.22124842e-01, 8.22338400e-01, 8.23321539e-01, 8.25796816e-01,\n",
       "        8.26275346e-01, 8.26734678e-01, 8.26943374e-01, 8.28117780e-01,\n",
       "        8.28521041e-01, 8.30139885e-01, 8.30687781e-01, 8.31193020e-01,\n",
       "        8.32432882e-01, 8.32529852e-01, 8.36055738e-01, 8.36710413e-01,\n",
       "        8.37053883e-01, 8.37611405e-01, 8.37893273e-01, 8.38273549e-01,\n",
       "        8.39505181e-01, 8.39823992e-01, 8.39971817e-01, 8.40136756e-01,\n",
       "        8.40198224e-01, 8.43774449e-01, 8.44005490e-01, 8.44161007e-01,\n",
       "        8.47824947e-01, 8.48349168e-01, 8.48363536e-01, 8.49119335e-01,\n",
       "        8.49488597e-01, 8.49838409e-01, 8.51650850e-01, 8.51745807e-01,\n",
       "        8.52013606e-01, 8.52162275e-01, 8.54820305e-01, 8.55271464e-01,\n",
       "        8.56963719e-01, 8.57140692e-01, 8.58994617e-01, 8.61370196e-01,\n",
       "        8.61978551e-01, 8.63066666e-01, 8.66341783e-01, 8.66657628e-01,\n",
       "        8.67662217e-01, 8.67807628e-01, 8.68170153e-01, 8.68287777e-01,\n",
       "        8.70198619e-01, 8.71193606e-01, 8.71978168e-01, 8.74192938e-01,\n",
       "        8.75843277e-01, 8.76031023e-01, 8.77616432e-01, 8.77954731e-01,\n",
       "        8.78045210e-01, 8.78187144e-01, 8.79121159e-01, 8.79248100e-01,\n",
       "        8.79515061e-01, 8.79615232e-01, 8.79696176e-01, 8.79853446e-01,\n",
       "        8.80870944e-01, 8.81239140e-01, 8.81874877e-01, 8.84592820e-01,\n",
       "        8.86009909e-01, 8.86950168e-01, 8.87086431e-01, 8.87384768e-01,\n",
       "        8.87574698e-01, 8.88706517e-01, 8.89749120e-01, 8.89773971e-01,\n",
       "        8.89888591e-01, 8.91342389e-01, 8.91871701e-01, 8.91970306e-01,\n",
       "        8.93303945e-01, 8.94608163e-01, 8.95908247e-01, 8.98070540e-01,\n",
       "        8.98504218e-01, 8.99085322e-01, 9.02188963e-01, 9.02508756e-01,\n",
       "        9.04333951e-01, 9.05160997e-01, 9.07548157e-01, 9.13420065e-01,\n",
       "        9.15523485e-01, 9.15755504e-01, 9.15988692e-01, 9.16000644e-01,\n",
       "        9.17438351e-01, 9.19754612e-01, 9.21009361e-01, 9.21631999e-01,\n",
       "        9.21636147e-01, 9.21935415e-01, 9.23833687e-01, 9.26913594e-01,\n",
       "        9.29716031e-01, 9.30275360e-01, 9.30311952e-01, 9.30911098e-01,\n",
       "        9.31141762e-01, 9.34170261e-01, 9.34846430e-01, 9.35161977e-01,\n",
       "        9.35683125e-01, 9.35768617e-01, 9.36303593e-01, 9.36323491e-01,\n",
       "        9.37013941e-01, 9.37525226e-01, 9.39992784e-01, 9.40346190e-01,\n",
       "        9.41885567e-01, 9.42072226e-01, 9.43659098e-01, 9.44482115e-01,\n",
       "        9.45088792e-01, 9.45856401e-01, 9.45977140e-01, 9.46182128e-01,\n",
       "        9.46248676e-01, 9.49347040e-01, 9.54492463e-01, 9.55653028e-01,\n",
       "        9.56288863e-01, 9.57678055e-01, 9.58679493e-01, 9.59430480e-01,\n",
       "        9.60437662e-01, 9.60585773e-01, 9.62325880e-01, 9.63745808e-01,\n",
       "        9.65344276e-01, 9.65605838e-01, 9.66349238e-01, 9.67201976e-01,\n",
       "        9.67544183e-01, 9.67657645e-01, 9.68804294e-01, 9.69275315e-01,\n",
       "        9.71662762e-01, 9.74481107e-01, 9.74727508e-01, 9.74749536e-01,\n",
       "        9.75541508e-01, 9.75686655e-01, 9.75750198e-01, 9.76046778e-01,\n",
       "        9.77031433e-01, 9.77267488e-01, 9.77727240e-01, 9.78240165e-01,\n",
       "        9.78263875e-01, 9.80014780e-01, 9.80474433e-01, 9.81408407e-01,\n",
       "        9.82908876e-01, 9.83369012e-01, 9.84697994e-01, 9.85993979e-01,\n",
       "        9.86480140e-01, 9.88573614e-01, 9.88671356e-01, 9.89027846e-01,\n",
       "        9.89730226e-01, 9.90544400e-01, 9.91082273e-01, 9.92165820e-01,\n",
       "        9.93651323e-01, 9.94950438e-01, 9.95206618e-01, 9.96652078e-01,\n",
       "        9.97729060e-01, 9.99270960e-01, 9.99515316e-01, 9.99740842e-01]),\n",
       " array([1, 1, 1, 1, 1, 1, 1, 1, 1, 1, 1, 1, 1, 1, 1, 1, 1, 1, 1, 1, 1, 1,\n",
       "        1, 1, 1, 1, 1, 1, 1, 1, 1, 1, 1, 1, 1, 1, 1, 1, 1, 1, 1, 1, 1, 1,\n",
       "        1, 1, 1, 1, 1, 1, 1, 1, 1, 1, 1, 1, 1, 1, 1, 1, 1, 1, 1, 1, 1, 1,\n",
       "        1, 1, 1, 1, 1, 1, 1, 1, 1, 1, 1, 1, 1, 1, 1, 1, 1, 1, 1, 1, 1, 1,\n",
       "        1, 1, 1, 1, 1, 1, 1, 1, 1, 1, 1, 1, 1, 1, 1, 1, 1, 1, 1, 1, 1, 1,\n",
       "        1, 1, 1, 1, 1, 1, 1, 1, 1, 1, 1, 1, 1, 1, 1, 1, 1, 1, 1, 1, 1, 1,\n",
       "        1, 1, 1, 1, 1, 1, 1, 1, 1, 1, 1, 1, 1, 1, 1, 1, 1, 1, 1, 1, 1, 1,\n",
       "        1, 1, 1, 1, 1, 1, 1, 1, 1, 1, 1, 1, 1, 1, 1, 1, 1, 1, 1, 1, 1, 1,\n",
       "        1, 1, 1, 1, 1, 1, 1, 1, 1, 1, 1, 1, 1, 1, 1, 1, 1, 1, 1, 1, 1, 1,\n",
       "        1, 1, 1, 1, 1, 1, 1, 1, 1, 1, 1, 1, 1, 1, 1, 1, 1, 1, 1, 1, 1, 1,\n",
       "        1, 1, 1, 1, 1, 1, 1, 1, 1, 1, 1, 1, 1, 1, 1, 1, 1, 1, 1, 1, 1, 1,\n",
       "        1, 1, 1, 1, 1, 1, 1, 1, 1, 1, 1, 1, 1, 1, 1, 1, 1, 1, 1, 1, 1, 1,\n",
       "        1, 1, 1, 1, 1, 1, 1, 1, 1, 1, 1, 1, 1, 1, 1, 1, 1, 1, 1, 1, 1, 1,\n",
       "        1, 1, 1, 1, 1, 1, 1, 1, 1, 1, 1, 1, 1, 1, 1, 1, 1, 1, 1, 1, 1, 1,\n",
       "        1, 1, 1, 1, 1, 1, 1, 1, 1, 1, 1, 1, 1, 1, 1, 1, 1, 1, 1, 1, 1, 1,\n",
       "        1, 1, 1, 1, 1, 1, 1, 1, 1, 1, 1, 1, 1, 1, 1, 1, 1, 1, 1, 1, 1, 1,\n",
       "        1, 1, 1, 1, 1, 1, 1, 1, 1, 1, 1, 1, 1, 1, 1, 1, 1, 1, 1, 1, 1, 1,\n",
       "        1, 1, 1, 1, 1, 1, 1, 1, 1, 1, 1, 1, 1, 1, 1, 1, 1, 1, 1, 1, 1, 1,\n",
       "        1, 1, 1, 1, 1, 1, 1, 1, 1, 1, 1, 1, 1, 1, 1, 1, 1, 1, 1, 1, 1, 1,\n",
       "        1, 1, 1, 1, 1, 1, 1, 1, 1, 1, 1, 1, 1, 1, 1, 1, 1, 1, 1, 1, 1, 1,\n",
       "        1, 1, 1, 1, 1, 1, 1, 1, 1, 1, 1, 1, 1, 1, 1, 1, 1, 1, 1, 1, 1, 1,\n",
       "        1, 1, 1, 1, 1, 1, 1, 1, 1, 1, 1, 1, 1, 1, 1, 1, 1, 1, 1, 1, 1, 1,\n",
       "        1, 1, 1, 1, 1, 1, 1, 1, 1, 1, 1, 1, 1, 1, 1, 1, 1, 1, 1, 1, 1, 1,\n",
       "        1, 1, 1, 1, 1, 1, 1, 1, 1, 1, 1, 1, 1, 1, 1, 1, 1, 1, 1, 1, 1, 1,\n",
       "        1, 1, 1, 1, 1, 1, 1, 1, 1, 1, 1, 1, 1, 1, 1, 1, 1, 1, 1, 1, 1, 1,\n",
       "        1, 1, 1, 1, 1, 1, 1, 1, 1, 1, 1, 1, 1, 1, 1, 1, 1, 1, 1, 1, 1, 1,\n",
       "        1, 1, 1, 1, 1, 1, 1, 1, 1, 1, 1, 1, 1, 1, 1, 1, 1, 1, 1, 1, 1, 1,\n",
       "        1, 1, 1, 1, 1, 1, 1, 1, 1, 1, 1, 1, 1, 1, 1, 1, 1, 1, 1, 1, 1, 1,\n",
       "        1, 1, 1, 1, 1, 1, 1, 1, 1, 1, 1, 1, 1, 1, 1, 1, 1, 1, 1, 1, 1, 1,\n",
       "        1, 1, 1, 1, 1, 1, 1, 1, 1, 1, 1, 1, 1, 1, 1, 1, 1, 1, 1, 1, 1, 1,\n",
       "        1, 1, 1, 1, 1, 1, 1, 1, 1, 1, 1, 1, 1, 1, 1, 1, 1, 1, 1, 1, 1, 1,\n",
       "        1, 1, 1, 1, 1, 1, 1, 1, 1, 1, 1, 1, 1, 1, 1, 1, 1, 1, 1, 1, 1, 1,\n",
       "        1, 1, 1, 1, 1, 1, 1, 1, 1, 1, 1, 1, 1, 1, 1, 1, 1, 1, 1, 1, 1, 1,\n",
       "        1, 1, 1, 1, 1, 1, 1, 1, 1, 1, 1, 1, 1, 1, 1, 1, 1, 1, 1, 1, 1, 1,\n",
       "        1, 1, 1, 1, 1, 1, 1, 1, 1, 1, 1, 1, 1, 1, 1, 1, 1, 1, 1, 1, 1, 1,\n",
       "        1, 1, 1, 1, 1, 1, 1, 1, 1, 1, 1, 1, 1, 1, 1, 1, 1, 1, 1, 1, 1, 1,\n",
       "        1, 1, 1, 1, 1, 1, 1, 1, 1, 1, 1, 1, 1, 1, 1, 1, 1, 1, 1, 1, 1, 1,\n",
       "        1, 1, 1, 1, 1, 1, 1, 1, 1, 1, 1, 1, 1, 1, 1, 1, 1, 1, 1, 1, 1, 1,\n",
       "        1, 1, 1, 1, 1, 1, 1, 1, 1, 1, 1, 1, 1, 1, 1, 1, 1, 1, 1, 1, 1, 1,\n",
       "        1, 1, 1, 1, 1, 1, 1, 1, 1, 1, 1, 1, 1, 1, 1, 1, 1, 1, 1, 1, 1, 1,\n",
       "        1, 1, 1, 1, 1, 1, 1, 1, 1, 1, 1, 1, 1, 1, 1, 1, 1, 1, 1, 1, 1, 1,\n",
       "        1, 1, 1, 1, 1, 1, 1, 1, 1, 1, 1, 1, 1, 1, 1, 1, 1, 1, 1, 1, 1, 1,\n",
       "        1, 1, 1, 1, 1, 1, 1, 1, 1, 1, 1, 1, 1, 1, 1, 1, 1, 1, 1, 1, 1, 1,\n",
       "        1, 1, 1, 1, 1, 1, 1, 1, 1, 1, 1, 1, 1, 1, 1, 1, 1, 1, 1, 1, 1, 1,\n",
       "        1, 1, 1, 1, 1, 1, 1, 1, 1, 1, 1, 1, 1, 1, 1, 1, 1, 1, 1, 1, 1, 1,\n",
       "        1, 1, 1, 1, 1, 1, 1, 1, 1, 1], dtype=int64))"
      ]
     },
     "execution_count": 12,
     "metadata": {},
     "output_type": "execute_result"
    }
   ],
   "source": [
    "# The unique elements of rand_floats with the count of times it appears underneath\n",
    "x, counts = np.unique(rand_floats, return_counts=True)\n",
    "\n",
    "# Show\n",
    "x, counts"
   ]
  },
  {
   "cell_type": "code",
   "execution_count": 13,
   "metadata": {},
   "outputs": [
    {
     "data": {
      "image/png": "[encoded data removed]",
      "text/plain": [
       "<Figure size 1200x300 with 1 Axes>"
      ]
     },
     "metadata": {},
     "output_type": "display_data"
    }
   ],
   "source": [
    "# Create an empty plot\n",
    "fig, ax = plt.subplots(figsize=(12,3))\n",
    "\n",
    "# Plot a bar chart (THIS IS NOT A GOOD IDEA)\n",
    "\n",
    "ax.bar(x, counts, width=0.001);"
   ]
  },
  {
   "cell_type": "markdown",
   "metadata": {},
   "source": [
    "### Use a Histogram instead\n",
    "\n",
    "https://matplotlib.org/stable/api/_as_gen/matplotlib.pyplot.hist.html"
   ]
  },
  {
   "cell_type": "code",
   "execution_count": 24,
   "metadata": {},
   "outputs": [
    {
     "data": {
      "image/png": "[encoded data removed]",
      "text/plain": [
       "<Figure size 1200x300 with 1 Axes>"
      ]
     },
     "metadata": {},
     "output_type": "display_data"
    }
   ],
   "source": [
    "# Create an empty plot\n",
    "fig, ax = plt.subplots(figsize=(12,3))\n",
    "\n",
    "# Plot a histogram\n",
    "\n",
    "ax.hist(rand_floats );"
   ]
  },
  {
   "cell_type": "markdown",
   "metadata": {},
   "source": [
    "## Python Standard Library\n",
    "\n",
    "https://docs.python.org/3/library/random.html\n",
    "\n",
    "***"
   ]
  },
  {
   "cell_type": "code",
   "execution_count": 14,
   "metadata": {},
   "outputs": [],
   "source": [
    "#The random module from the standard library\n",
    "import random"
   ]
  },
  {
   "cell_type": "code",
   "execution_count": 15,
   "metadata": {},
   "outputs": [
    {
     "data": {
      "text/plain": [
       "13"
      ]
     },
     "execution_count": 15,
     "metadata": {},
     "output_type": "execute_result"
    }
   ],
   "source": [
    "random.randint(10, 20)"
   ]
  },
  {
   "cell_type": "code",
   "execution_count": 16,
   "metadata": {},
   "outputs": [],
   "source": [
    "#Putting a question mark in front of a function name prints a help message e.g.\n",
    "# ?random.randint"
   ]
  },
  {
   "cell_type": "code",
   "execution_count": 17,
   "metadata": {},
   "outputs": [
    {
     "name": "stdout",
     "output_type": "stream",
     "text": [
      "[3, 3, 3, 7, 5, 9, 3, 5, 4, 6]\n"
     ]
    }
   ],
   "source": [
    "#Generate a list of 100 random integers between 1 & 10\n",
    "L = [random.randint(1, 10) for i in range(100)]\n",
    "\n",
    "print(L[:10])"
   ]
  },
  {
   "cell_type": "code",
   "execution_count": 18,
   "metadata": {},
   "outputs": [
    {
     "data": {
      "text/plain": [
       "'Toyota'"
      ]
     },
     "execution_count": 18,
     "metadata": {},
     "output_type": "execute_result"
    }
   ],
   "source": [
    "#List of car makes\n",
    "makes = ['Toyota', 'Skoda', 'Ford', 'Renault']\n",
    "\n",
    "#Get one at random\n",
    "random.choice(makes)"
   ]
  },
  {
   "cell_type": "code",
   "execution_count": 19,
   "metadata": {},
   "outputs": [
    {
     "data": {
      "text/plain": [
       "['Toyota',\n",
       " 'Skoda',\n",
       " 'Skoda',\n",
       " 'Skoda',\n",
       " 'Renault',\n",
       " 'Renault',\n",
       " 'Renault',\n",
       " 'Skoda',\n",
       " 'Ford',\n",
       " 'Toyota']"
      ]
     },
     "execution_count": 19,
     "metadata": {},
     "output_type": "execute_result"
    }
   ],
   "source": [
    "#Get 10 random choices\n",
    "random.choices(makes, k=10)"
   ]
  },
  {
   "cell_type": "code",
   "execution_count": 20,
   "metadata": {},
   "outputs": [
    {
     "name": "stdout",
     "output_type": "stream",
     "text": [
      "['C', 'G', 'H', 'F', 'D', 'E', 'B', 'A']\n"
     ]
    }
   ],
   "source": [
    "letters = ['A', 'B', 'C', 'D', 'E', 'F', 'G', 'H']\n",
    "\n",
    "random.shuffle(letters)\n",
    "\n",
    "print(letters)"
   ]
  },
  {
   "cell_type": "code",
   "execution_count": 21,
   "metadata": {},
   "outputs": [
    {
     "data": {
      "text/plain": [
       "['F', 'H', 'A']"
      ]
     },
     "execution_count": 21,
     "metadata": {},
     "output_type": "execute_result"
    }
   ],
   "source": [
    "random.sample(letters, k=3)"
   ]
  },
  {
   "cell_type": "code",
   "execution_count": 22,
   "metadata": {},
   "outputs": [
    {
     "data": {
      "text/plain": [
       "0.1348305936103028"
      ]
     },
     "execution_count": 22,
     "metadata": {},
     "output_type": "execute_result"
    }
   ],
   "source": [
    "#Random real floating point number\n",
    "random.random()"
   ]
  },
  {
   "cell_type": "code",
   "execution_count": 23,
   "metadata": {},
   "outputs": [
    {
     "data": {
      "text/plain": [
       "32.22228042596259"
      ]
     },
     "execution_count": 23,
     "metadata": {},
     "output_type": "execute_result"
    }
   ],
   "source": [
    "#Pick a random floating point number between 0.0 and 100.0\n",
    "random.uniform(0.0, 100.0)"
   ]
  },
  {
   "cell_type": "markdown",
   "metadata": {},
   "source": [
    "***\n",
    "### The End"
   ]
  }
 ],
 "metadata": {
  "kernelspec": {
   "display_name": "base",
   "language": "python",
   "name": "python3"
  },
  "language_info": {
   "codemirror_mode": {
    "name": "ipython",
    "version": 3
   },
   "file_extension": ".py",
   "mimetype": "text/x-python",
   "name": "python",
   "nbconvert_exporter": "python",
   "pygments_lexer": "ipython3",
   "version": "3.11.4"
  }
 },
 "nbformat": 4,
 "nbformat_minor": 2
}
